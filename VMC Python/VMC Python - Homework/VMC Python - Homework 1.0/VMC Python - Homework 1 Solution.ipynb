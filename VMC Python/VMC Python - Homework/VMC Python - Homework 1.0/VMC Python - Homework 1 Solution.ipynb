{
 "cells": [
  {
   "cell_type": "code",
   "execution_count": 4,
   "metadata": {},
   "outputs": [
    {
     "name": "stdout",
     "output_type": "stream",
     "text": [
      "Arsh\n"
     ]
    },
    {
     "data": {
      "text/plain": [
       "str"
      ]
     },
     "execution_count": 4,
     "metadata": {},
     "output_type": "execute_result"
    }
   ],
   "source": [
    "#Question 1\n",
    "type(input())"
   ]
  },
  {
   "cell_type": "code",
   "execution_count": 3,
   "metadata": {
    "scrolled": true
   },
   "outputs": [
    {
     "name": "stdout",
     "output_type": "stream",
     "text": [
      "\n"
     ]
    },
    {
     "data": {
      "text/plain": [
       "NoneType"
      ]
     },
     "execution_count": 3,
     "metadata": {},
     "output_type": "execute_result"
    }
   ],
   "source": [
    "#Question 2\n",
    "type(print())"
   ]
  },
  {
   "cell_type": "code",
   "execution_count": 10,
   "metadata": {},
   "outputs": [
    {
     "name": "stdout",
     "output_type": "stream",
     "text": [
      "Enter a value for a:  14\n",
      "Enter a value for b:  2\n",
      "16\n"
     ]
    }
   ],
   "source": [
    "#Question 3\n",
    "a=int(input(\"Enter a value for a:  \"))\n",
    "b=int(input(\"Enter a value for b:  \"))\n",
    "print(a+b)"
   ]
  },
  {
   "cell_type": "code",
   "execution_count": 5,
   "metadata": {},
   "outputs": [
    {
     "name": "stdout",
     "output_type": "stream",
     "text": [
      "Name: Arsh\n",
      "Age: 15\n",
      "Arsh -> 15\n"
     ]
    }
   ],
   "source": [
    "#Question 4\n",
    "name=input(\"Name: \")\n",
    "age=input(\"Age: \")\n",
    "print(name, age, sep=\" -> \")"
   ]
  },
  {
   "cell_type": "code",
   "execution_count": 16,
   "metadata": {},
   "outputs": [
    {
     "name": "stdout",
     "output_type": "stream",
     "text": [
      "Name: Arsh\n",
      "Age: 15\n",
      "My name is Arsh and my age is 15 .\n"
     ]
    }
   ],
   "source": [
    "#Question 5\n",
    "name=input(\"Name: \")\n",
    "age=input(\"Age: \")\n",
    "print(\"My name is\", name, \"and my age is\", age, \".\")"
   ]
  },
  {
   "cell_type": "code",
   "execution_count": 24,
   "metadata": {},
   "outputs": [
    {
     "ename": "NameError",
     "evalue": "name 'Print' is not defined",
     "output_type": "error",
     "traceback": [
      "\u001b[1;31m---------------------------------------------------------------------------\u001b[0m",
      "\u001b[1;31mNameError\u001b[0m                                 Traceback (most recent call last)",
      "\u001b[1;32m<ipython-input-24-3b501e636f7c>\u001b[0m in \u001b[0;36m<module>\u001b[1;34m\u001b[0m\n\u001b[0;32m      1\u001b[0m \u001b[1;31m#Question 6\u001b[0m\u001b[1;33m\u001b[0m\u001b[1;33m\u001b[0m\u001b[1;33m\u001b[0m\u001b[0m\n\u001b[1;32m----> 2\u001b[1;33m \u001b[0mPrint\u001b[0m\u001b[1;33m(\u001b[0m\u001b[1;34m\"Manmohan\"\u001b[0m\u001b[1;33m,\u001b[0m\u001b[1;34m\"Gupta\"\u001b[0m\u001b[1;33m,\u001b[0m\u001b[1;34m\"Rahul\"\u001b[0m\u001b[1;33m,\u001b[0m\u001b[1;34m\"Janghu\"\u001b[0m\u001b[1;33m,\u001b[0m\u001b[0msep\u001b[0m\u001b[1;33m=\u001b[0m\u001b[1;34m\"and\"\u001b[0m\u001b[1;33m)\u001b[0m\u001b[1;33m\u001b[0m\u001b[1;33m\u001b[0m\u001b[0m\n\u001b[0m",
      "\u001b[1;31mNameError\u001b[0m: name 'Print' is not defined"
     ]
    }
   ],
   "source": [
    "#Question 6\n",
    "Print(\"Manmohan\",\"Gupta\",\"Rahul\",\"Janghu\",sep=\"and\")"
   ]
  },
  {
   "cell_type": "code",
   "execution_count": 25,
   "metadata": {},
   "outputs": [
    {
     "name": "stdout",
     "output_type": "stream",
     "text": [
      "ManmohanandGuptaandRahulandJanghu\n"
     ]
    }
   ],
   "source": [
    "#Question 6\n",
    "print(\"Manmohan\",\"Gupta\",\"Rahul\",\"Janghu\",sep=\"and\")"
   ]
  },
  {
   "cell_type": "code",
   "execution_count": 26,
   "metadata": {},
   "outputs": [
    {
     "name": "stdout",
     "output_type": "stream",
     "text": [
      "Hello VMCians\n"
     ]
    }
   ],
   "source": [
    "#Question 6\n",
    "print(\"Hello\",\"VMCians\")"
   ]
  },
  {
   "cell_type": "code",
   "execution_count": 40,
   "metadata": {},
   "outputs": [
    {
     "name": "stdout",
     "output_type": "stream",
     "text": [
      "Hello VMCians!\n",
      "Are you excited?\n"
     ]
    },
    {
     "data": {
      "text/plain": [
       "(None, None)"
      ]
     },
     "execution_count": 40,
     "metadata": {},
     "output_type": "execute_result"
    }
   ],
   "source": [
    "#Question 7\n",
    "print(\"Hello\",\"VMCians!\"), print(\"Are you excited?\")"
   ]
  },
  {
   "cell_type": "code",
   "execution_count": 46,
   "metadata": {},
   "outputs": [
    {
     "name": "stdout",
     "output_type": "stream",
     "text": [
      "Hello VMCians!How are you?Are you excited?\n"
     ]
    },
    {
     "data": {
      "text/plain": [
       "(None, None)"
      ]
     },
     "execution_count": 46,
     "metadata": {},
     "output_type": "execute_result"
    }
   ],
   "source": [
    "#Question 8\n",
    "print(\"Hello\",\"VMCians!\", end=\"How are you?\"), print(\"Are you excited?\")"
   ]
  },
  {
   "cell_type": "code",
   "execution_count": 48,
   "metadata": {},
   "outputs": [
    {
     "name": "stdout",
     "output_type": "stream",
     "text": [
      "Which of the following can’t be a variable in python: _name, 22, He22llo, Rahul?\n",
      "22\n"
     ]
    }
   ],
   "source": [
    "#Question 9\n",
    "print(\"Which of the following can’t be a variable in python: _name, 22, He22llo, Rahul?\")\n",
    "print(\"22\")"
   ]
  },
  {
   "cell_type": "code",
   "execution_count": 35,
   "metadata": {},
   "outputs": [
    {
     "name": "stdout",
     "output_type": "stream",
     "text": [
      "Enter a value of a: 14\n",
      "Enter a value of b: 2\n",
      "Quotient = 7\n"
     ]
    }
   ],
   "source": [
    "#Question 10\n",
    "a=int(input(\"Enter a value of a: \" ))\n",
    "b=int(input(\"Enter a value of b: \" ))\n",
    "Division=int(a/b)\n",
    "print(\"Quotient =\",Division)"
   ]
  },
  {
   "cell_type": "code",
   "execution_count": 50,
   "metadata": {},
   "outputs": [
    {
     "name": "stdout",
     "output_type": "stream",
     "text": [
      "Can we directly add two numbers taken as inputs from user without changing their datatype. Why?\n",
      "No, anything taken as input is classified as string and strings automatically.\n"
     ]
    }
   ],
   "source": [
    "#Question 11\n",
    "print(\"Can we directly add two numbers taken as inputs from user without changing their datatype. Why?\")\n",
    "print(\"No, anything taken as input is classified as string and strings automatically.\")"
   ]
  },
  {
   "cell_type": "code",
   "execution_count": 51,
   "metadata": {},
   "outputs": [
    {
     "name": "stdout",
     "output_type": "stream",
     "text": [
      "Can we print any datatype using print function?\n",
      "Yes\n"
     ]
    }
   ],
   "source": [
    "#Question 12\n",
    "print(\"Can we print any datatype using print function?\")\n",
    "print(\"Yes\")"
   ]
  },
  {
   "cell_type": "code",
   "execution_count": 52,
   "metadata": {},
   "outputs": [
    {
     "name": "stdout",
     "output_type": "stream",
     "text": [
      "a = 2, b = “2”. Sum = a + b. Guess the output also find the reason for the same?\n",
      "Error, because a is an integer while b is a string and integers and strings cannot be added\n"
     ]
    }
   ],
   "source": [
    "#Question 13\n",
    "print(\"a = 2, b = “2”. Sum = a + b. Guess the output also find the reason for the same?\")\n",
    "print(\"Error, because a is an integer while b is a string and integers and strings cannot be added\")"
   ]
  },
  {
   "cell_type": "code",
   "execution_count": 54,
   "metadata": {},
   "outputs": [
    {
     "name": "stdout",
     "output_type": "stream",
     "text": [
      "Which of the following is an invalid statement: -> a, b = 4, 5 -> a_b = 1, 00 -> a b = 4, 5\n",
      "a b = 4, 5 is the invalid statement.\n"
     ]
    }
   ],
   "source": [
    "#Question 14\n",
    "print(\"Which of the following is an invalid statement: -> a, b = 4, 5 -> a_b = 1, 00 -> a b = 4, 5\")\n",
    "print(\"a b = 4, 5 is the invalid statement.\")"
   ]
  }
 ],
 "metadata": {
  "kernelspec": {
   "display_name": "Python 3",
   "language": "python",
   "name": "python3"
  },
  "language_info": {
   "codemirror_mode": {
    "name": "ipython",
    "version": 3
   },
   "file_extension": ".py",
   "mimetype": "text/x-python",
   "name": "python",
   "nbconvert_exporter": "python",
   "pygments_lexer": "ipython3",
   "version": "3.7.6"
  }
 },
 "nbformat": 4,
 "nbformat_minor": 4
}
