{
 "cells": [
  {
   "cell_type": "code",
   "execution_count": 5,
   "metadata": {},
   "outputs": [
    {
     "name": "stdout",
     "output_type": "stream",
     "text": [
      "x=2\n",
      "y=14\n",
      "x^y or x**y = 16384\n"
     ]
    }
   ],
   "source": [
    "#Question 1\n",
    "def power():\n",
    "    \"\"\"\n",
    "    This function is to calcute x to the power y.\n",
    "    x: It should be an interger.\n",
    "    y: It should be an interger.\n",
    "    \"\"\"\n",
    "    x=int(input(\"x=\"))\n",
    "    y=int(input(\"y=\"))\n",
    "    return x**y\n",
    "print(\"x^y or x**y =\", power())"
   ]
  },
  {
   "cell_type": "code",
   "execution_count": 3,
   "metadata": {},
   "outputs": [
    {
     "name": "stdout",
     "output_type": "stream",
     "text": [
      "Please enter a string: Arsh Saxena\n",
      "Number of words: 2\n"
     ]
    }
   ],
   "source": [
    "#Question 2\n",
    "s2=str(input(\"Please enter a string: \"))\n",
    "def count_words(s2):\n",
    "    li = s2.split()\n",
    "    return len(li)\n",
    "print(\"Number of words:\", count_words(s2))       "
   ]
  },
  {
   "cell_type": "code",
   "execution_count": 36,
   "metadata": {},
   "outputs": [
    {
     "name": "stdout",
     "output_type": "stream",
     "text": [
      "a=2004\n",
      "b=1996\n",
      "Which operation do you want to perform? Addition\n",
      "Answer = 4000\n"
     ]
    }
   ],
   "source": [
    "def cal():\n",
    "    a=int(input(\"a=\"))\n",
    "    b=int(input(\"b=\"))\n",
    "    choice=input(\"Which operation do you want to perform? \")\n",
    "    if choice==\"Addition\":\n",
    "        return a+b\n",
    "    elif choice==\"Subtraction\":\n",
    "        return a-b\n",
    "    elif choice==\"Multiplication\":\n",
    "        return a*b\n",
    "    elif choice==\"Division\":\n",
    "        return a/b\n",
    "    elif choice==\"Exponent\":\n",
    "        return a**b\n",
    "    else:\n",
    "        return(\"Please enter a valid choice.\")\n",
    "print(\"Answer\", \"=\", cal())"
   ]
  }
 ],
 "metadata": {
  "kernelspec": {
   "display_name": "Python 3",
   "language": "python",
   "name": "python3"
  },
  "language_info": {
   "codemirror_mode": {
    "name": "ipython",
    "version": 3
   },
   "file_extension": ".py",
   "mimetype": "text/x-python",
   "name": "python",
   "nbconvert_exporter": "python",
   "pygments_lexer": "ipython3",
   "version": "3.7.6"
  }
 },
 "nbformat": 4,
 "nbformat_minor": 4
}
