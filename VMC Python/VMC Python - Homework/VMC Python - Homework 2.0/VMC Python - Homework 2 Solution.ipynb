{
 "cells": [
  {
   "cell_type": "code",
   "execution_count": 3,
   "metadata": {},
   "outputs": [
    {
     "name": "stdout",
     "output_type": "stream",
     "text": [
      "Please enter a number: 2\n",
      "The given number is +ve.\n"
     ]
    }
   ],
   "source": [
    "#Question 1\n",
    "num=int(input(\"Please enter a number: \"))\n",
    "if num>0:\n",
    "    print(\"The given number is +ve.\")\n",
    "else:\n",
    "    print(\"The given number is -ve.\")"
   ]
  },
  {
   "cell_type": "code",
   "execution_count": 10,
   "metadata": {},
   "outputs": [
    {
     "name": "stdout",
     "output_type": "stream",
     "text": [
      "Please enter a number: 14\n",
      "Hi! I'm above 5.\n"
     ]
    }
   ],
   "source": [
    "#Question 2\n",
    "num=int(input(\"Please enter a number: \"))\n",
    "if num>5:\n",
    "    print(\"Hi! I'm above 5.\")\n",
    "else:\n",
    "    print(\"Hi! I'm below 5.\")"
   ]
  },
  {
   "cell_type": "code",
   "execution_count": 1,
   "metadata": {},
   "outputs": [
    {
     "name": "stdout",
     "output_type": "stream",
     "text": [
      "Please enter your marks: 100\n",
      "You have got some good skills in this subject!\n"
     ]
    }
   ],
   "source": [
    "#Question 3\n",
    "marks=int(input(\"Please enter your marks: \"))\n",
    "if marks<33:\n",
    "    print(\"You have failed the test.\")\n",
    "elif marks>=33 and marks<60:\n",
    "    print(\"You have passed the test but score is not good.\")\n",
    "elif marks>60 and marks<80:\n",
    "    print(\"You have scored well in the test.\")\n",
    "else:\n",
    "    print(\"You have got some good skills in this subject!\")"
   ]
  },
  {
   "cell_type": "code",
   "execution_count": 2,
   "metadata": {},
   "outputs": [
    {
     "name": "stdout",
     "output_type": "stream",
     "text": [
      "Please enter the outside temperature: 14.2\n",
      "It's little bit cold outside.\n"
     ]
    }
   ],
   "source": [
    "#Question 4\n",
    "temprature=float(input(\"Please enter the outside temperature: \"))\n",
    "if temprature<5:\n",
    "    print(\"It's super cold out there.\")\n",
    "elif temprature>5 and temprature<15:\n",
    "    print(\"It's little bit cold outside.\")\n",
    "elif temprature>15 and temprature<25:\n",
    "    print(\"Weather is nice outside.\")\n",
    "elif temprature>25 and temprature<35:\n",
    "    print(\"Weather is a bit hot out there.\")\n",
    "else:\n",
    "    print(\"It's super hot!\")"
   ]
  },
  {
   "cell_type": "code",
   "execution_count": 22,
   "metadata": {},
   "outputs": [
    {
     "name": "stdout",
     "output_type": "stream",
     "text": [
      "Please enter a number: 14\n",
      "I'm not a multiple of 5.\n"
     ]
    }
   ],
   "source": [
    "#Question 5\n",
    "num=int(input(\"Please enter a number: \"))\n",
    "if num%5==0:\n",
    "    print(\"I'm a multiple of 5.\")\n",
    "else:\n",
    "    print(\"I'm not a multiple of 5.\")"
   ]
  },
  {
   "cell_type": "code",
   "execution_count": 20,
   "metadata": {},
   "outputs": [
    {
     "name": "stdout",
     "output_type": "stream",
     "text": [
      "Please enter a number: 14\n",
      "Yes\n"
     ]
    }
   ],
   "source": [
    "#Question 6\n",
    "num=int(input(\"Please enter a number: \"))\n",
    "mod=num%2\n",
    "if mod>0:\n",
    "    print(\"No\")\n",
    "else:\n",
    "    print(\"Yes\")\n",
    "#Yes=Even\n",
    "#No=Odd"
   ]
  },
  {
   "cell_type": "code",
   "execution_count": 25,
   "metadata": {},
   "outputs": [
    {
     "name": "stdout",
     "output_type": "stream",
     "text": [
      "Please enter a number: 70\n",
      "I'm divisible by both 5 and 7.\n"
     ]
    }
   ],
   "source": [
    "#Question 7\n",
    "num=int(input(\"Please enter a number: \"))\n",
    "if num%5==0 and num%7==0:\n",
    "    print(\"I'm divisible by both 5 and 7.\")\n",
    "else:\n",
    "    print(\"I'm not divisible by both 5 and 7.\")"
   ]
  },
  {
   "cell_type": "code",
   "execution_count": 16,
   "metadata": {},
   "outputs": [
    {
     "name": "stdout",
     "output_type": "stream",
     "text": [
      "a=2\n",
      "b=14\n",
      "c=7\n",
      "14 is the largest number\n"
     ]
    }
   ],
   "source": [
    "#Question 8\n",
    "a=int(input(\"a=\"))\n",
    "b=int(input(\"b=\"))\n",
    "c=int(input(\"c=\"))\n",
    "largest=a\n",
    "if b>largest:\n",
    "    largest=b\n",
    "if c>largest:\n",
    "    largest=c\n",
    "print(largest, \"is the largest number.\")"
   ]
  },
  {
   "cell_type": "code",
   "execution_count": 12,
   "metadata": {},
   "outputs": [
    {
     "name": "stdout",
     "output_type": "stream",
     "text": [
      "Enter a number: 34\n",
      "The number is divisible by 5 but not by 7.\n"
     ]
    }
   ],
   "source": [
    "#Question 9\n",
    "num=int(input(\"Enter a number: \"))\n",
    "if num%5==0 and num%7==0:\n",
    "    print(\"The number is divisible by both 5 and 7.\")\n",
    "else:\n",
    "    print(\"The number is divisible by 5 but not by 7.\")"
   ]
  },
  {
   "cell_type": "code",
   "execution_count": 17,
   "metadata": {},
   "outputs": [
    {
     "name": "stdout",
     "output_type": "stream",
     "text": [
      "Enter a number: 25\n",
      "The number is divisible either by 5 or by 7.\n"
     ]
    }
   ],
   "source": [
    "#Question 10\n",
    "num=int(input(\"Enter a number: \"))\n",
    "if num%5==0 or num%7==0:\n",
    "    print(\"The number is divisible either by 5 or by 7.\")\n",
    "else:\n",
    "    print(\"The number is not divisible either by 5 or by 7 or both.\")"
   ]
  },
  {
   "cell_type": "code",
   "execution_count": 7,
   "metadata": {},
   "outputs": [
    {
     "name": "stdout",
     "output_type": "stream",
     "text": [
      "What is color of light? Green\n",
      "You are clear to go ahead.\n"
     ]
    }
   ],
   "source": [
    "#Question 11\n",
    "light=str(input(\"What is color of light? \"))\n",
    "if light==\"Red\":\n",
    "    print(\"Please turn off your engine.\")\n",
    "elif light==\"Yellow\":\n",
    "    print(\"Hey, please be ready to go.\")\n",
    "elif light==\"Green\":\n",
    "    print(\"You are clear to go ahead.\")\n",
    "else:\n",
    "    print(\"The given information is irrelevant.\")"
   ]
  },
  {
   "cell_type": "code",
   "execution_count": 4,
   "metadata": {},
   "outputs": [
    {
     "name": "stdout",
     "output_type": "stream",
     "text": [
      "Cofficient of a=1\n",
      "Cofficient of b=-5\n",
      "Cofficient of c=6\n",
      "3.0 and 2.0\n"
     ]
    }
   ],
   "source": [
    "#Question 12\n",
    "a=int(input(\"Cofficient of a=\"))\n",
    "b=int(input(\"Cofficient of b=\"))\n",
    "c=int(input(\"Cofficient of c=\"))\n",
    "\n",
    "#Finding discriminant\n",
    "d=(b**2)-(4*a*c)\n",
    "\n",
    "#Finding roots\n",
    "root1=(-b+d**(1/2))/(2*a)\n",
    "root2=(-b-d**(1/2))/(2*a)\n",
    "\n",
    "print(root1,\"and\", root2)"
   ]
  },
  {
   "cell_type": "code",
   "execution_count": 11,
   "metadata": {},
   "outputs": [
    {
     "name": "stdout",
     "output_type": "stream",
     "text": [
      "Please enter outside weather: Cloudy\n",
      "Hey! Let's play outside, weather is cool.\n"
     ]
    }
   ],
   "source": [
    "#Question 13\n",
    "weather=str(input(\"Please enter outside weather: \"))\n",
    "if weather==\"Rainy\":\n",
    "    print(\"Let's not go outside today.\")\n",
    "elif weather==\"Sunny\":\n",
    "    print(\"Hey, let's go for swimming.\")\n",
    "elif weather==\"Cloudy\":\n",
    "    print(\"Hey! Let's play outside, weather is cool.\")\n",
    "else:\n",
    "    print(\"The given information is irrelevant.\")"
   ]
  },
  {
   "cell_type": "code",
   "execution_count": 2,
   "metadata": {},
   "outputs": [
    {
     "data": {
      "text/plain": [
       "True"
      ]
     },
     "execution_count": 2,
     "metadata": {},
     "output_type": "execute_result"
    }
   ],
   "source": [
    "#Question 14\n",
    "True or True and False"
   ]
  },
  {
   "cell_type": "code",
   "execution_count": 4,
   "metadata": {},
   "outputs": [
    {
     "data": {
      "text/plain": [
       "True"
      ]
     },
     "execution_count": 4,
     "metadata": {},
     "output_type": "execute_result"
    }
   ],
   "source": [
    "#Question 15\n",
    "True and False or True"
   ]
  },
  {
   "cell_type": "code",
   "execution_count": 5,
   "metadata": {},
   "outputs": [
    {
     "data": {
      "text/plain": [
       "False"
      ]
     },
     "execution_count": 5,
     "metadata": {},
     "output_type": "execute_result"
    }
   ],
   "source": [
    "#Question 16\n",
    "not False and False"
   ]
  },
  {
   "cell_type": "code",
   "execution_count": 6,
   "metadata": {},
   "outputs": [
    {
     "data": {
      "text/plain": [
       "True"
      ]
     },
     "execution_count": 6,
     "metadata": {},
     "output_type": "execute_result"
    }
   ],
   "source": [
    "#Question 17\n",
    "True and True and (not False)"
   ]
  },
  {
   "cell_type": "code",
   "execution_count": 7,
   "metadata": {},
   "outputs": [
    {
     "data": {
      "text/plain": [
       "True"
      ]
     },
     "execution_count": 7,
     "metadata": {},
     "output_type": "execute_result"
    }
   ],
   "source": [
    "#Question 18\n",
    "True and True or (not False)"
   ]
  },
  {
   "cell_type": "code",
   "execution_count": 8,
   "metadata": {},
   "outputs": [
    {
     "data": {
      "text/plain": [
       "True"
      ]
     },
     "execution_count": 8,
     "metadata": {},
     "output_type": "execute_result"
    }
   ],
   "source": [
    "#Question 19\n",
    "(True and False) and (not False) or True"
   ]
  },
  {
   "cell_type": "code",
   "execution_count": 9,
   "metadata": {},
   "outputs": [
    {
     "data": {
      "text/plain": [
       "False"
      ]
     },
     "execution_count": 9,
     "metadata": {},
     "output_type": "execute_result"
    }
   ],
   "source": [
    "#Question 20\n",
    "(True and False) and ((not False) or True)"
   ]
  }
 ],
 "metadata": {
  "kernelspec": {
   "display_name": "Python 3",
   "language": "python",
   "name": "python3"
  },
  "language_info": {
   "codemirror_mode": {
    "name": "ipython",
    "version": 3
   },
   "file_extension": ".py",
   "mimetype": "text/x-python",
   "name": "python",
   "nbconvert_exporter": "python",
   "pygments_lexer": "ipython3",
   "version": "3.7.6"
  }
 },
 "nbformat": 4,
 "nbformat_minor": 4
}
