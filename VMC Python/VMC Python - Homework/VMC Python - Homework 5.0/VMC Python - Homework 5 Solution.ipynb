{
 "cells": [
  {
   "cell_type": "code",
   "execution_count": 19,
   "metadata": {},
   "outputs": [
    {
     "name": "stdout",
     "output_type": "stream",
     "text": [
      "Sum = 192\n"
     ]
    }
   ],
   "source": [
    "#Question 1\n",
    "ilist=[[1, 2, 3], [4, 2, 6], [5, 6, 7], [67, 89]]\n",
    "sum=0\n",
    "for x in ilist:\n",
    "    for y in x:\n",
    "        sum+=y\n",
    "print(\"Sum =\", sum)"
   ]
  },
  {
   "cell_type": "code",
   "execution_count": 39,
   "metadata": {},
   "outputs": [
    {
     "name": "stdout",
     "output_type": "stream",
     "text": [
      "Product = 360642240\n",
      "Difference between the sum and the product of the given list = 360642048\n"
     ]
    }
   ],
   "source": [
    "#Question 2\n",
    "ilist=[[1, 2, 3], [4, 2, 6], [5, 6, 7], [67, 89]]\n",
    "sum=192\n",
    "product=1\n",
    "for x in ilist:\n",
    "    for y in x:\n",
    "        product*=y\n",
    "print(\"Product =\", product)\n",
    "\n",
    "print(\"Difference between the sum and the product of the given list =\", product-sum)"
   ]
  },
  {
   "cell_type": "code",
   "execution_count": 9,
   "metadata": {},
   "outputs": [
    {
     "name": "stdout",
     "output_type": "stream",
     "text": [
      "[[1], [1, 2], [1, 2, 3], [1, 2, 3, 4], [1, 2, 3, 4, 5], [1, 2, 3, 4, 5, 6]]\n"
     ]
    }
   ],
   "source": [
    "#Question 3\n",
    "a=[]\n",
    "for i in range (1, 7):\n",
    "    h=[]\n",
    "    for j in range (1, i+1):\n",
    "        h.append(j)\n",
    "    a.append(h)\n",
    "print(a)"
   ]
  }
 ],
 "metadata": {
  "kernelspec": {
   "display_name": "Python 3",
   "language": "python",
   "name": "python3"
  },
  "language_info": {
   "codemirror_mode": {
    "name": "ipython",
    "version": 3
   },
   "file_extension": ".py",
   "mimetype": "text/x-python",
   "name": "python",
   "nbconvert_exporter": "python",
   "pygments_lexer": "ipython3",
   "version": "3.7.6"
  }
 },
 "nbformat": 4,
 "nbformat_minor": 4
}
