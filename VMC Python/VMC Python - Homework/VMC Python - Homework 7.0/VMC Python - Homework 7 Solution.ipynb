{
 "cells": [
  {
   "cell_type": "code",
   "execution_count": 1,
   "metadata": {},
   "outputs": [
    {
     "name": "stdout",
     "output_type": "stream",
     "text": [
      "Give me a string: arsh saxena\n",
      "ARSH SAXENA\n"
     ]
    }
   ],
   "source": [
    "#Question 1\n",
    "s=input(\"Give me a string: \")\n",
    "print(s.upper())"
   ]
  },
  {
   "cell_type": "code",
   "execution_count": 3,
   "metadata": {},
   "outputs": [
    {
     "name": "stdout",
     "output_type": "stream",
     "text": [
      "Give me a string: arsh saxena\n",
      "ARSH SAXENA\n"
     ]
    }
   ],
   "source": [
    "#Question 2\n",
    "a=input(\"Give me a string: \")\n",
    "h=\"\"\n",
    "for i in a:\n",
    "    h+=i.upper()\n",
    "print(h)"
   ]
  },
  {
   "cell_type": "code",
   "execution_count": 13,
   "metadata": {},
   "outputs": [
    {
     "name": "stdout",
     "output_type": "stream",
     "text": [
      "What to check? Arsh\n",
      "It is a substring of s1.\n"
     ]
    }
   ],
   "source": [
    "#Question 3\n",
    "s1=(\"Hey there! My name is Arsh.\")\n",
    "s2=input(\"What to check? \")\n",
    "if s2 in s1:\n",
    "    print(\"It is a substring of s1.\")\n",
    "else:\n",
    "    print(\"It is not a substring of s1.\")"
   ]
  }
 ],
 "metadata": {
  "kernelspec": {
   "display_name": "Python 3",
   "language": "python",
   "name": "python3"
  },
  "language_info": {
   "codemirror_mode": {
    "name": "ipython",
    "version": 3
   },
   "file_extension": ".py",
   "mimetype": "text/x-python",
   "name": "python",
   "nbconvert_exporter": "python",
   "pygments_lexer": "ipython3",
   "version": "3.7.6"
  }
 },
 "nbformat": 4,
 "nbformat_minor": 4
}
