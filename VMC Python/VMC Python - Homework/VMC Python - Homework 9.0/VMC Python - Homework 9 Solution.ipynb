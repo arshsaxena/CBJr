{
 "cells": [
  {
   "cell_type": "code",
   "execution_count": 11,
   "metadata": {},
   "outputs": [
    {
     "data": {
      "text/plain": [
       "16"
      ]
     },
     "execution_count": 11,
     "metadata": {},
     "output_type": "execute_result"
    }
   ],
   "source": [
    "#Question 1\n",
    "def iint(a, b, c):\n",
    "    if a>b and a>c:\n",
    "        highest=a\n",
    "    elif b>a and b>c:\n",
    "        highest=b\n",
    "    else:\n",
    "        highest=c\n",
    "    return highest\n",
    "iint(2, 16, 14)"
   ]
  },
  {
   "cell_type": "code",
   "execution_count": 30,
   "metadata": {},
   "outputs": [
    {
     "data": {
      "text/plain": [
       "61412"
      ]
     },
     "execution_count": 30,
     "metadata": {},
     "output_type": "execute_result"
    }
   ],
   "source": [
    "#Question 2\n",
    "def iint2(a):\n",
    "    a=str(a)\n",
    "    b=a[::-1]\n",
    "    return int(b)\n",
    "iint2(21416)"
   ]
  },
  {
   "cell_type": "code",
   "execution_count": 31,
   "metadata": {},
   "outputs": [
    {
     "data": {
      "text/plain": [
       "152925583"
      ]
     },
     "execution_count": 31,
     "metadata": {},
     "output_type": "execute_result"
    }
   ],
   "source": [
    "#Question 3\n",
    "def replace_0(a):\n",
    "    a=str(a)\n",
    "    b=\"\"\n",
    "    for i in a:\n",
    "        if i==\"0\":\n",
    "            b+=\"5\"\n",
    "        else:\n",
    "            b+=i\n",
    "    return int(b)\n",
    "replace_0(102920083)"
   ]
  }
 ],
 "metadata": {
  "kernelspec": {
   "display_name": "Python 3",
   "language": "python",
   "name": "python3"
  },
  "language_info": {
   "codemirror_mode": {
    "name": "ipython",
    "version": 3
   },
   "file_extension": ".py",
   "mimetype": "text/x-python",
   "name": "python",
   "nbconvert_exporter": "python",
   "pygments_lexer": "ipython3",
   "version": "3.7.6"
  }
 },
 "nbformat": 4,
 "nbformat_minor": 4
}
