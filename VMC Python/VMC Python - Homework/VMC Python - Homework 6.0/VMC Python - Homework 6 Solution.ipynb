{
 "cells": [
  {
   "cell_type": "code",
   "execution_count": 1,
   "metadata": {},
   "outputs": [],
   "source": [
    "import turtle\n",
    "window=turtle.Screen()\n",
    "t=turtle.Turtle()\n",
    "t.forward(200)\n",
    "turtle.done()"
   ]
  },
  {
   "cell_type": "code",
   "execution_count": 1,
   "metadata": {},
   "outputs": [],
   "source": [
    "import turtle\n",
    "wind=turtle.Screen()\n",
    "pen=turtle.Turtle()\n",
    "for i in range(4):\n",
    "    pen.forward(200)\n",
    "    pen.left(90)\n",
    "turtle.done()"
   ]
  },
  {
   "cell_type": "code",
   "execution_count": 1,
   "metadata": {},
   "outputs": [],
   "source": [
    "import turtle\n",
    "wind=turtle.Screen()\n",
    "pen=turtle.Turtle()\n",
    "for i in range(3):\n",
    "    pen.forward(200)\n",
    "    pen.left(120)\n",
    "turtle.done()"
   ]
  },
  {
   "cell_type": "code",
   "execution_count": 1,
   "metadata": {},
   "outputs": [],
   "source": [
    "import turtle\n",
    "wind=turtle.Screen()\n",
    "pen=turtle.Turtle()\n",
    "for i in range(3):\n",
    "    pen.forward(200)\n",
    "    if i!=2:\n",
    "        pen.left(120)\n",
    "turtle.done()"
   ]
  },
  {
   "cell_type": "code",
   "execution_count": 1,
   "metadata": {},
   "outputs": [],
   "source": [
    "import turtle\n",
    "wind=turtle.Screen()\n",
    "pen=turtle.Turtle()\n",
    "for i in range(6):\n",
    "    pen.forward(200)\n",
    "    pen.left(60)\n",
    "turtle.done()"
   ]
  },
  {
   "cell_type": "code",
   "execution_count": 1,
   "metadata": {},
   "outputs": [],
   "source": [
    "import turtle\n",
    "wind=turtle.Screen()\n",
    "pen=turtle.Turtle()\n",
    "for i in range(0, 6):\n",
    "    pen.forward(200)\n",
    "    pen.left(144)\n",
    "turtle.done()"
   ]
  },
  {
   "cell_type": "code",
   "execution_count": 1,
   "metadata": {},
   "outputs": [],
   "source": [
    "import turtle\n",
    "wind=turtle.Screen()\n",
    "pen=turtle.Turtle()\n",
    "length=100\n",
    "for i in range(40):\n",
    "    pen.forward(length)\n",
    "    pen.right(90)\n",
    "    length-=5\n",
    "turtle.done()"
   ]
  },
  {
   "cell_type": "code",
   "execution_count": 1,
   "metadata": {},
   "outputs": [],
   "source": [
    "import turtle\n",
    "t=turtle.Turtle()\n",
    "t.pensize(6)\n",
    "firstRowColors=[\"blue\", \"black\", \"red\"]\n",
    "for i in range(3):\n",
    "    t.penup()\n",
    "    t.pencolor(firstRowColors[i])\n",
    "    t.goto(i*110, 0)\n",
    "    t.pendown()\n",
    "    t.circle(50)\n",
    "secondRowColors=[\"\", \"yellow\", \"\", \"green\"]\n",
    "for i in range(1, 4, 2):\n",
    "    t.penup()\n",
    "    t.pencolor(secondRowColors[i])\n",
    "    t.goto(i*55, -50)\n",
    "    t.pendown()\n",
    "    t.circle(50)\n",
    "turtle.done()"
   ]
  }
 ],
 "metadata": {
  "kernelspec": {
   "display_name": "Python 3",
   "language": "python",
   "name": "python3"
  },
  "language_info": {
   "codemirror_mode": {
    "name": "ipython",
    "version": 3
   },
   "file_extension": ".py",
   "mimetype": "text/x-python",
   "name": "python",
   "nbconvert_exporter": "python",
   "pygments_lexer": "ipython3",
   "version": "3.7.6"
  }
 },
 "nbformat": 4,
 "nbformat_minor": 4
}
