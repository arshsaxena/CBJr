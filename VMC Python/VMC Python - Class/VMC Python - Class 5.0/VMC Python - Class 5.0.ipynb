{
 "cells": [
  {
   "cell_type": "code",
   "execution_count": 17,
   "metadata": {},
   "outputs": [
    {
     "name": "stdout",
     "output_type": "stream",
     "text": [
      "loop for i = 1 started\n",
      "| \t loop for j = 1\n",
      "| \t loop for j = 2\n",
      "| \t loop for j = 3\n",
      "\n",
      "loop for i = 2 started\n",
      "| \t loop for j = 1\n",
      "| \t loop for j = 2\n",
      "| \t loop for j = 3\n",
      "\n"
     ]
    }
   ],
   "source": [
    "i_loop_count=2\n",
    "j_loop_count=3\n",
    "for i in range (1, i_loop_count+1):\n",
    "    print(\"loop for i =\", i, \"started\")\n",
    "    for j in range(1, j_loop_count+1):\n",
    "        print(\"|\", \"\\t loop for j =\", j)\n",
    "    print()"
   ]
  },
  {
   "cell_type": "code",
   "execution_count": 22,
   "metadata": {},
   "outputs": [
    {
     "name": "stdout",
     "output_type": "stream",
     "text": [
      "loop for i = 1 started\n",
      "| \t loop for j = 1\n",
      "| \t| \t\tloop for k = 1\n",
      "| \t| \t\tloop for k = 2\n",
      "| \t| \t\tloop for k = 3\n",
      "| \t| \t\tloop for k = 4\n",
      "| \t loop for j = 2\n",
      "| \t| \t\tloop for k = 1\n",
      "| \t| \t\tloop for k = 2\n",
      "| \t| \t\tloop for k = 3\n",
      "| \t| \t\tloop for k = 4\n",
      "| \t loop for j = 3\n",
      "| \t| \t\tloop for k = 1\n",
      "| \t| \t\tloop for k = 2\n",
      "| \t| \t\tloop for k = 3\n",
      "| \t| \t\tloop for k = 4\n",
      "\n",
      "loop for i = 2 started\n",
      "| \t loop for j = 1\n",
      "| \t| \t\tloop for k = 1\n",
      "| \t| \t\tloop for k = 2\n",
      "| \t| \t\tloop for k = 3\n",
      "| \t| \t\tloop for k = 4\n",
      "| \t loop for j = 2\n",
      "| \t| \t\tloop for k = 1\n",
      "| \t| \t\tloop for k = 2\n",
      "| \t| \t\tloop for k = 3\n",
      "| \t| \t\tloop for k = 4\n",
      "| \t loop for j = 3\n",
      "| \t| \t\tloop for k = 1\n",
      "| \t| \t\tloop for k = 2\n",
      "| \t| \t\tloop for k = 3\n",
      "| \t| \t\tloop for k = 4\n",
      "\n"
     ]
    }
   ],
   "source": [
    "i_loop_count=2\n",
    "j_loop_count=3\n",
    "k_loop_count=4\n",
    "for i in range (1, i_loop_count+1):\n",
    "    print(\"loop for i =\", i, \"started\")\n",
    "    for j in range(1, j_loop_count+1):\n",
    "        print(\"|\", \"\\t loop for j =\", j)\n",
    "        for k in range(1, k_loop_count+1):\n",
    "            print(\"|\", \"\\t|\", \"\\t\\t\"\"loop for k =\", k)\n",
    "    print()"
   ]
  },
  {
   "cell_type": "code",
   "execution_count": 24,
   "metadata": {},
   "outputs": [
    {
     "name": "stdout",
     "output_type": "stream",
     "text": [
      "loop for i = 1 started\n",
      "| \t loop for j = 1\n",
      "| \t| \t\tloop for k = 1\n",
      "| \t| \t\t\t\tloop for l = 1\n",
      "| \t| \t\tloop for k = 2\n",
      "| \t| \t\t\t\tloop for l = 1\n",
      "| \t loop for j = 2\n",
      "| \t| \t\tloop for k = 1\n",
      "| \t| \t\t\t\tloop for l = 1\n",
      "| \t| \t\tloop for k = 2\n",
      "| \t| \t\t\t\tloop for l = 1\n",
      "| \t loop for j = 3\n",
      "| \t| \t\tloop for k = 1\n",
      "| \t| \t\t\t\tloop for l = 1\n",
      "| \t| \t\tloop for k = 2\n",
      "| \t| \t\t\t\tloop for l = 1\n",
      "\n",
      "loop for i = 2 started\n",
      "| \t loop for j = 1\n",
      "| \t| \t\tloop for k = 1\n",
      "| \t| \t\t\t\tloop for l = 1\n",
      "| \t| \t\tloop for k = 2\n",
      "| \t| \t\t\t\tloop for l = 1\n",
      "| \t loop for j = 2\n",
      "| \t| \t\tloop for k = 1\n",
      "| \t| \t\t\t\tloop for l = 1\n",
      "| \t| \t\tloop for k = 2\n",
      "| \t| \t\t\t\tloop for l = 1\n",
      "| \t loop for j = 3\n",
      "| \t| \t\tloop for k = 1\n",
      "| \t| \t\t\t\tloop for l = 1\n",
      "| \t| \t\tloop for k = 2\n",
      "| \t| \t\t\t\tloop for l = 1\n",
      "\n",
      "loop for i = 3 started\n",
      "| \t loop for j = 1\n",
      "| \t| \t\tloop for k = 1\n",
      "| \t| \t\t\t\tloop for l = 1\n",
      "| \t| \t\tloop for k = 2\n",
      "| \t| \t\t\t\tloop for l = 1\n",
      "| \t loop for j = 2\n",
      "| \t| \t\tloop for k = 1\n",
      "| \t| \t\t\t\tloop for l = 1\n",
      "| \t| \t\tloop for k = 2\n",
      "| \t| \t\t\t\tloop for l = 1\n",
      "| \t loop for j = 3\n",
      "| \t| \t\tloop for k = 1\n",
      "| \t| \t\t\t\tloop for l = 1\n",
      "| \t| \t\tloop for k = 2\n",
      "| \t| \t\t\t\tloop for l = 1\n",
      "\n",
      "loop for i = 4 started\n",
      "| \t loop for j = 1\n",
      "| \t| \t\tloop for k = 1\n",
      "| \t| \t\t\t\tloop for l = 1\n",
      "| \t| \t\tloop for k = 2\n",
      "| \t| \t\t\t\tloop for l = 1\n",
      "| \t loop for j = 2\n",
      "| \t| \t\tloop for k = 1\n",
      "| \t| \t\t\t\tloop for l = 1\n",
      "| \t| \t\tloop for k = 2\n",
      "| \t| \t\t\t\tloop for l = 1\n",
      "| \t loop for j = 3\n",
      "| \t| \t\tloop for k = 1\n",
      "| \t| \t\t\t\tloop for l = 1\n",
      "| \t| \t\tloop for k = 2\n",
      "| \t| \t\t\t\tloop for l = 1\n",
      "\n"
     ]
    }
   ],
   "source": [
    "i_loop_count=4\n",
    "j_loop_count=3\n",
    "k_loop_count=2\n",
    "l_loop_count=1\n",
    "for i in range (1, i_loop_count+1):\n",
    "    print(\"loop for i =\", i, \"started\")\n",
    "    for j in range(1, j_loop_count+1):\n",
    "        print(\"|\", \"\\t loop for j =\", j)\n",
    "        for k in range(1, k_loop_count+1):\n",
    "            print(\"|\", \"\\t|\", \"\\t\\t\"\"loop for k =\", k)\n",
    "            for l in range(1, l_loop_count+1):\n",
    "                print(\"|\", \"\\t|\", \"\\t\\t\\t\\t\"\"loop for l =\", l)\n",
    "    print()"
   ]
  },
  {
   "cell_type": "code",
   "execution_count": 48,
   "metadata": {},
   "outputs": [
    {
     "name": "stdout",
     "output_type": "stream",
     "text": [
      "i=5\n",
      "j=5\n",
      "1 , 1 | 1 , 2 | 1 , 3 | 1 , 4 | 1 , 5 | \n",
      "2 , 1 | 2 , 2 | 2 , 3 | 2 , 4 | 2 , 5 | \n",
      "3 , 1 | 3 , 2 | 3 , 3 | 3 , 4 | 3 , 5 | \n",
      "4 , 1 | 4 , 2 | 4 , 3 | 4 , 4 | 4 , 5 | \n",
      "5 , 1 | 5 , 2 | 5 , 3 | 5 , 4 | 5 , 5 | \n"
     ]
    }
   ],
   "source": [
    "iloop=int(input(\"i=\"))\n",
    "jloop=int(input(\"j=\"))\n",
    "for i in range(1, iloop+1):\n",
    "    for j in range(1,jloop+1):\n",
    "        print(i, \",\", j, end=\" | \")\n",
    "    print()"
   ]
  },
  {
   "cell_type": "code",
   "execution_count": 49,
   "metadata": {},
   "outputs": [
    {
     "name": "stdout",
     "output_type": "stream",
     "text": [
      "count=5\n",
      "1 \n",
      "2 2 \n",
      "3 3 3 \n",
      "4 4 4 4 \n",
      "5 5 5 5 5 \n"
     ]
    }
   ],
   "source": [
    "count=int(input(\"count=\"))\n",
    "for i in range(1, count+1):\n",
    "    for j in range(1, i+1):\n",
    "        print(i, end=\" \")\n",
    "    print()"
   ]
  },
  {
   "cell_type": "code",
   "execution_count": 77,
   "metadata": {},
   "outputs": [
    {
     "name": "stdout",
     "output_type": "stream",
     "text": [
      "[9, 5, 7]\n",
      "9, 5, 7, \n",
      "21\n",
      "[0, 9, 5]\n",
      "0, 9, 5, \n",
      "35\n",
      "[9, 7, 3]\n",
      "9, 7, 3, \n",
      "54\n",
      "[9, 8, 1]\n",
      "9, 8, 1, \n",
      "72\n",
      "\n",
      "Sum of the elements = 72\n"
     ]
    }
   ],
   "source": [
    "ilistolist=[[9, 5, 7], [0, 9, 5], [9, 7, 3], [9, 8, 1]]\n",
    "sum=0\n",
    "for x in ilistolist:\n",
    "    print(x)\n",
    "    for y in x:\n",
    "        print(y, end=\", \")\n",
    "        sum+=y\n",
    "    print()\n",
    "    print(sum, end=\"\")\n",
    "    print()\n",
    "print()\n",
    "print(\"Sum of the elements =\", sum)"
   ]
  },
  {
   "cell_type": "code",
   "execution_count": 79,
   "metadata": {},
   "outputs": [
    {
     "name": "stdout",
     "output_type": "stream",
     "text": [
      "Sum of the elements = 72\n"
     ]
    }
   ],
   "source": [
    "ilistolist=[[9, 5, 7], [0, 9, 5], [9, 7, 3], [9, 8, 1]]\n",
    "sum=0\n",
    "for i in range(0, len(ilistolist)):\n",
    "    for j in range(0, len(ilistolist[i])):\n",
    "        sum+=ilistolist[i][j]\n",
    "print(\"Sum of the elements =\", sum)"
   ]
  },
  {
   "cell_type": "code",
   "execution_count": 89,
   "metadata": {},
   "outputs": [
    {
     "name": "stdout",
     "output_type": "stream",
     "text": [
      "ilist[0] = [9, 5, 7]\n",
      "ilist[0][1] = 5\n",
      "ilist[3] = [9, 8, 1]\n",
      "ilist[3][2] = 1\n"
     ]
    }
   ],
   "source": [
    "ilist=[[9, 5, 7], [0, 9, 5], [9, 7, 3], [9, 8, 1]]\n",
    "sum=0\n",
    "print(\"ilist[0] =\", ilist[0])\n",
    "print(\"ilist[0][1] =\", ilist[0][1])\n",
    "print(\"ilist[3] =\", ilist[3])\n",
    "print(\"ilist[3][2] =\", ilist[3][2])"
   ]
  },
  {
   "cell_type": "code",
   "execution_count": 93,
   "metadata": {},
   "outputs": [
    {
     "name": "stdout",
     "output_type": "stream",
     "text": [
      "[9, 5, 7]\n",
      "3\n"
     ]
    }
   ],
   "source": [
    "ilist=[[9, 5, 7], [0, 9, 5], [9, 7, 3], [9, 8, 1]]\n",
    "sum=0\n",
    "print(ilist[0])\n",
    "index=len(ilist[2])-1\n",
    "print(ilist[2][len(ilist[2])-1])"
   ]
  }
 ],
 "metadata": {
  "kernelspec": {
   "display_name": "Python 3",
   "language": "python",
   "name": "python3"
  },
  "language_info": {
   "codemirror_mode": {
    "name": "ipython",
    "version": 3
   },
   "file_extension": ".py",
   "mimetype": "text/x-python",
   "name": "python",
   "nbconvert_exporter": "python",
   "pygments_lexer": "ipython3",
   "version": "3.7.6"
  }
 },
 "nbformat": 4,
 "nbformat_minor": 4
}
