{
 "cells": [
  {
   "cell_type": "code",
   "execution_count": 22,
   "metadata": {},
   "outputs": [
    {
     "name": "stdout",
     "output_type": "stream",
     "text": [
      "Hello Arshu! How are you?\n",
      "I'm good!\n"
     ]
    }
   ],
   "source": [
    "print (\"Hello Arshu!\"\" How are you?\\n\",end=\"\",sep=\" \")\n",
    "print (\"I'm good!\")"
   ]
  },
  {
   "cell_type": "code",
   "execution_count": 23,
   "metadata": {},
   "outputs": [
    {
     "name": "stdout",
     "output_type": "stream",
     "text": [
      "What is your name?Arshu\n"
     ]
    },
    {
     "data": {
      "text/plain": [
       "'Arshu'"
      ]
     },
     "execution_count": 23,
     "metadata": {},
     "output_type": "execute_result"
    }
   ],
   "source": [
    "input (\"What is your name?\")"
   ]
  },
  {
   "cell_type": "code",
   "execution_count": 2,
   "metadata": {},
   "outputs": [
    {
     "name": "stdout",
     "output_type": "stream",
     "text": [
      "<class 'int'>\n",
      "<class 'str'>\n",
      "<class 'float'>\n"
     ]
    }
   ],
   "source": [
    "intvar=5\n",
    "print(type(intvar))\n",
    "strvar=\"python\"\n",
    "print(type(strvar))\n",
    "fltvar=3.5\n",
    "print(type(fltvar))"
   ]
  },
  {
   "cell_type": "code",
   "execution_count": 6,
   "metadata": {},
   "outputs": [
    {
     "name": "stdout",
     "output_type": "stream",
     "text": [
      "19\n",
      "19mm\n"
     ]
    }
   ],
   "source": [
    "a=5\n",
    "b=14\n",
    "print(a+b)\n",
    "c=\"mm\"\n",
    "print(str(a+b)+c)"
   ]
  },
  {
   "cell_type": "code",
   "execution_count": 10,
   "metadata": {},
   "outputs": [
    {
     "name": "stdout",
     "output_type": "stream",
     "text": [
      "What is your name Arshu\n",
      "Birth year2005\n",
      "What is your name  <class 'str'>\n",
      "What type of year  <class 'int'>\n",
      "My name is Arshu birth year is  2005\n"
     ]
    }
   ],
   "source": [
    "name=input(\"What is your name \")\n",
    "#first way to convert\n",
    "year=int(input(\"Birth year\"))\n",
    "#second way to convert\n",
    "#year=int(year)\n",
    "print(\"What is your name \", type(name))\n",
    "print(\"What type of year \", type(year))\n",
    "print(\"My name is\", name, \"birth year is \", year)"
   ]
  },
  {
   "cell_type": "code",
   "execution_count": 13,
   "metadata": {},
   "outputs": [
    {
     "name": "stdout",
     "output_type": "stream",
     "text": [
      "14\n",
      "2\n",
      "28\n"
     ]
    }
   ],
   "source": [
    "a=int(input())\n",
    "b=int(input())\n",
    "print(a*b)"
   ]
  }
 ],
 "metadata": {
  "kernelspec": {
   "display_name": "Python 3",
   "language": "python",
   "name": "python3"
  },
  "language_info": {
   "codemirror_mode": {
    "name": "ipython",
    "version": 3
   },
   "file_extension": ".py",
   "mimetype": "text/x-python",
   "name": "python",
   "nbconvert_exporter": "python",
   "pygments_lexer": "ipython3",
   "version": "3.7.6"
  }
 },
 "nbformat": 4,
 "nbformat_minor": 4
}
