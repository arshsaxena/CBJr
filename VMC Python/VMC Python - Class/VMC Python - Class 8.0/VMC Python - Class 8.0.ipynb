{
 "cells": [
  {
   "cell_type": "code",
   "execution_count": 4,
   "metadata": {},
   "outputs": [
    {
     "name": "stdout",
     "output_type": "stream",
     "text": [
      "Greeting is about to come!\n",
      "Hello Arsh!\n",
      "Hello Arsh!\n",
      "Hello Arsh!\n",
      "Hello Arsh!\n",
      "Hello Arsh!\n",
      "Hello Arsh!\n",
      "Hello Arsh!\n",
      "Hello Arsh!\n",
      "Hello Arsh!\n",
      "Hello Arsh!\n",
      "Once again, greeting is about to come. Be ready! \n",
      "Hello Arsh!\n",
      "Hello Arsh!\n",
      "Hello Arsh!\n",
      "Hello Arsh!\n",
      "Hello Arsh!\n",
      "Hello Arsh!\n",
      "Hello Arsh!\n",
      "Hello Arsh!\n",
      "Hello Arsh!\n",
      "Hello Arsh!\n"
     ]
    }
   ],
   "source": [
    "def PrintMessage():\n",
    "    for x in range(10):\n",
    "        print(\"Hello Arsh!\")\n",
    "print(\"Greeting is about to come!\")\n",
    "PrintMessage()\n",
    "print(\"Once again, greeting is about to come. Be ready! \")\n",
    "PrintMessage()"
   ]
  },
  {
   "cell_type": "code",
   "execution_count": 8,
   "metadata": {},
   "outputs": [
    {
     "name": "stdout",
     "output_type": "stream",
     "text": [
      "Greeting is about to come!\n",
      "Hello Arsh!\n",
      "Hello Arsh!\n",
      "Hello Arsh!\n",
      "Hello Arsh!\n",
      "Hello Arsh!\n",
      "Hello Arsh!\n",
      "Hello Arsh!\n",
      "Hello Arsh!\n",
      "Hello Arsh!\n",
      "Hello Arsh!\n",
      "Once again, greeting is about to come. Be ready! \n",
      "Scared?\n",
      "Scared?\n",
      "Scared?\n",
      "Scared?\n",
      "Scared?\n"
     ]
    }
   ],
   "source": [
    "def PrintMessage(message, times):\n",
    "    for x in range(times):\n",
    "        print(message)\n",
    "print(\"Greeting is about to come!\")\n",
    "message=\"Hello Arsh!\"\n",
    "PrintMessage(message, 10)\n",
    "print(\"Once again, greeting is about to come. Be ready! \")\n",
    "PrintMessage(\"Scared?\", 5)"
   ]
  },
  {
   "cell_type": "code",
   "execution_count": 11,
   "metadata": {},
   "outputs": [
    {
     "name": "stdout",
     "output_type": "stream",
     "text": [
      "Greeting is about to come!\n",
      "Hello Arsh!\n",
      "Hello Arsh!\n",
      "Hello Arsh!\n",
      "Hello Arsh!\n",
      "Hello Arsh!\n",
      "Hello Arsh!\n",
      "Hello Arsh!\n",
      "Hello Arsh!\n",
      "Hello Arsh!\n",
      "Hello Arsh!\n",
      "Hello Arsh!\n",
      "Hello Arsh!\n",
      "Hello Arsh!\n",
      "Hello Arsh!\n",
      "Once again, greeting is about to come. Be ready! \n",
      "Scared?\n",
      "Scared?\n"
     ]
    }
   ],
   "source": [
    "def PrintMessage(message=\"Arsh is great!\", times=10):\n",
    "    for x in range(times):\n",
    "        print(message)\n",
    "print(\"Greeting is about to come!\")\n",
    "message=\"Hello Arsh!\"\n",
    "PrintMessage(message, 14)\n",
    "print(\"Once again, greeting is about to come. Be ready! \")\n",
    "PrintMessage(\"Scared?\", 2)"
   ]
  },
  {
   "cell_type": "code",
   "execution_count": 12,
   "metadata": {},
   "outputs": [
    {
     "name": "stdout",
     "output_type": "stream",
     "text": [
      "(3, 4, 6, 10, 12)\n",
      "3\n",
      "4\n",
      "6\n",
      "10\n",
      "12\n"
     ]
    }
   ],
   "source": [
    "def PrintIntegers(*values):\n",
    "    print(values)\n",
    "    for x in values:\n",
    "        print(x)\n",
    "PrintIntegers(3, 4, 6, 10, 12)"
   ]
  },
  {
   "cell_type": "code",
   "execution_count": 20,
   "metadata": {},
   "outputs": [
    {
     "name": "stdout",
     "output_type": "stream",
     "text": [
      "Ordered\n",
      "a= 2\n",
      "b= 14\n",
      "c= 16\n",
      "Unordered\n",
      "a= 16\n",
      "b= 14\n",
      "c= 2\n"
     ]
    }
   ],
   "source": [
    "def PrintValues(a, b, c):\n",
    "    print(\"a=\", a)\n",
    "    print(\"b=\", b)\n",
    "    print(\"c=\", c)\n",
    "print(\"Ordered\")\n",
    "PrintValues(2, 14, 16)\n",
    "print(\"Unordered\")\n",
    "PrintValues(c=\"2\", b=\"14\", a=\"16\")"
   ]
  },
  {
   "cell_type": "code",
   "execution_count": 25,
   "metadata": {},
   "outputs": [
    {
     "name": "stdout",
     "output_type": "stream",
     "text": [
      "Sum = 32\n"
     ]
    }
   ],
   "source": [
    "def add(a, b, c):\n",
    "   return a+b+c \n",
    "sum=add(2, 14, 16)\n",
    "print(\"Sum =\", sum)"
   ]
  },
  {
   "cell_type": "code",
   "execution_count": 4,
   "metadata": {},
   "outputs": [
    {
     "name": "stdout",
     "output_type": "stream",
     "text": [
      "Enter next number: 1\n",
      "Enter next number: 2\n",
      "Enter next number: 14\n",
      "Enter next number: 0\n",
      "Program Ended!!\n",
      "List [1, 2, 14]\n"
     ]
    }
   ],
   "source": [
    "def tinput():\n",
    "    return int(input(\"Enter next number: \"))\n",
    "ilist=[]\n",
    "while True:\n",
    "    number=tinput()\n",
    "    if number!=0:\n",
    "        ilist.append(number)\n",
    "    else:\n",
    "        print(\"Program Ended!!\")\n",
    "        break \n",
    "print(\"List\", ilist)"
   ]
  },
  {
   "cell_type": "code",
   "execution_count": 1,
   "metadata": {},
   "outputs": [
    {
     "name": "stdout",
     "output_type": "stream",
     "text": [
      "Enter next number: 2\n",
      "Enter next number: 14\n",
      "Enter next number: 16\n",
      "Enter next number: 0\n",
      "Program Ended!!\n",
      "List: [2, 14, 16]\n"
     ]
    }
   ],
   "source": [
    "def tinput():\n",
    "    return int(input(\"Enter next number: \"))\n",
    "ilist=[]\n",
    "def slist(ilist):\n",
    "    ilist.sort()\n",
    "    for x in ilist:\n",
    "        print(x)\n",
    "while True:\n",
    "    number=tinput()\n",
    "    if number!=0:\n",
    "        ilist.append(number)\n",
    "    else:\n",
    "        print(\"Program Ended!!\")\n",
    "        break \n",
    "print(\"List:\", ilist)"
   ]
  },
  {
   "cell_type": "code",
   "execution_count": 15,
   "metadata": {},
   "outputs": [
    {
     "name": "stdout",
     "output_type": "stream",
     "text": [
      "Enter next number: 2\n",
      "Enter next number: 14\n",
      "Enter next number: 0\n",
      "2\n",
      "14\n"
     ]
    }
   ],
   "source": [
    "def tinput(ilist):\n",
    "    while True:\n",
    "        number=int(input(\"Enter next number: \"))\n",
    "        if number!=0:\n",
    "            ilist.append(number)\n",
    "        else:\n",
    "            break\n",
    "def slist(ilist):\n",
    "    ilist.sort()\n",
    "    for x in ilist:\n",
    "        print(x)\n",
    "ilist=[]\n",
    "tinput(ilist)\n",
    "slist(ilist)"
   ]
  },
  {
   "cell_type": "code",
   "execution_count": 9,
   "metadata": {},
   "outputs": [
    {
     "name": "stdout",
     "output_type": "stream",
     "text": [
      "Add=1, Sub=2, Mul=3, and Div=4.    Operator: 3\n",
      "Enter a number: 14\n",
      "Enter a number: 2\n",
      "Product = 28\n"
     ]
    }
   ],
   "source": [
    "def inum():\n",
    "    return int(input(\"Enter a number: \"))\n",
    "def aoper():\n",
    "    return int(input(\"Add=1, Sub=2, Mul=3, and Div=4.    Operator: \"))\n",
    "def Add(a, b):\n",
    "    return a+b\n",
    "def Sub(a, b):\n",
    "    return a-b\n",
    "def Mul(a, b):\n",
    "    return a*b\n",
    "def Div(a, b):\n",
    "    return a/b\n",
    "opt=aoper()\n",
    "if opt==1:\n",
    "    print(\"Sum =\", Add(inum(), inum()))\n",
    "elif opt==2:\n",
    "    print(\"Difference =\", Sub(inum(), inum()))\n",
    "elif opt==3:\n",
    "    print(\"Product =\", Mul(inum(), inum()))\n",
    "elif opt==4:\n",
    "    print(\"Quotient =\", Div(inum(), inum()))"
   ]
  }
 ],
 "metadata": {
  "kernelspec": {
   "display_name": "Python 3",
   "language": "python",
   "name": "python3"
  },
  "language_info": {
   "codemirror_mode": {
    "name": "ipython",
    "version": 3
   },
   "file_extension": ".py",
   "mimetype": "text/x-python",
   "name": "python",
   "nbconvert_exporter": "python",
   "pygments_lexer": "ipython3",
   "version": "3.7.6"
  }
 },
 "nbformat": 4,
 "nbformat_minor": 4
}
