{
 "cells": [
  {
   "cell_type": "code",
   "execution_count": 10,
   "metadata": {},
   "outputs": [
    {
     "name": "stdout",
     "output_type": "stream",
     "text": [
      "['Maths', 'Physics', 'Chemistry', 'Computer']\n",
      "['Maths', 'Physics', 'Chemistry', 'Computer', 'History']\n",
      "Maths\n",
      "Physics\n",
      "History\n"
     ]
    }
   ],
   "source": [
    "#list, append\n",
    "list=[\"Maths\", \"Physics\", \"Chemistry\", \"Computer\"]\n",
    "print(list)\n",
    "list.append(\"History\")\n",
    "print(list)\n",
    "print(list[0])\n",
    "print(list[1])\n",
    "print(list[-1])"
   ]
  },
  {
   "cell_type": "code",
   "execution_count": 16,
   "metadata": {},
   "outputs": [
    {
     "name": "stdout",
     "output_type": "stream",
     "text": [
      "['Maths', 'Physics', 'Chemistry', 'Computer']\n",
      "['Maths', 'Physics', 'Chemistry', 'Geography', 'Computer']\n",
      "['Computer', 'Geography', 'Chemistry', 'Physics', 'Maths']\n",
      "[]\n"
     ]
    }
   ],
   "source": [
    "#insert, reverse, clear\n",
    "list=[\"Maths\", \"Physics\", \"Chemistry\", \"Computer\"]\n",
    "print(list)\n",
    "list.insert(3,\"Geography\")\n",
    "print(list)\n",
    "list.reverse()\n",
    "print(list)\n",
    "list.clear()\n",
    "print(list)"
   ]
  },
  {
   "cell_type": "code",
   "execution_count": 19,
   "metadata": {},
   "outputs": [
    {
     "name": "stdout",
     "output_type": "stream",
     "text": [
      "['Maths', 'Physics', 'Chemistry', 'Computer']\n",
      "['Maths', 'Physics', 'Chemistry', 'Geography', 'Computer']\n",
      "['Chemistry', 'Computer', 'Geography', 'Maths', 'Physics']\n"
     ]
    }
   ],
   "source": [
    "#sort\n",
    "list=[\"Maths\", \"Physics\", \"Chemistry\", \"Computer\"]\n",
    "print(list)\n",
    "list.insert(3,\"Geography\")\n",
    "print(list)\n",
    "list.sort()\n",
    "print(list)"
   ]
  },
  {
   "cell_type": "code",
   "execution_count": 43,
   "metadata": {},
   "outputs": [
    {
     "name": "stdout",
     "output_type": "stream",
     "text": [
      "['Maths', 'Physics', 'Chemistry', 'Computer']\n",
      "Chemistry\n",
      "['Maths', 'Physics', 'Computer']\n"
     ]
    }
   ],
   "source": [
    "#pop\n",
    "list=[\"Maths\", \"Physics\", \"Chemistry\", \"Computer\"]\n",
    "print(list)\n",
    "sub=list.pop(2)\n",
    "print(sub)\n",
    "print(list)"
   ]
  },
  {
   "cell_type": "code",
   "execution_count": 41,
   "metadata": {},
   "outputs": [
    {
     "name": "stdout",
     "output_type": "stream",
     "text": [
      "4\n"
     ]
    }
   ],
   "source": [
    "#len (length)\n",
    "list=[\"Maths\", \"Physics\", \"Chemistry\", \"Computer\"]\n",
    "print(len(list))"
   ]
  },
  {
   "cell_type": "code",
   "execution_count": 39,
   "metadata": {},
   "outputs": [
    {
     "name": "stdout",
     "output_type": "stream",
     "text": [
      "['Maths', 'Physics', 'Chemistry', 'Computer']\n",
      "1\n",
      "['Maths', 'Physics', 'Chemistry', 'Computer', 'Maths']\n",
      "Maths 2\n"
     ]
    }
   ],
   "source": [
    "#count\n",
    "list=[\"Maths\", \"Physics\", \"Chemistry\", \"Computer\"]\n",
    "print(list)\n",
    "print(list.count(\"Maths\"))\n",
    "list.append(\"Maths\")\n",
    "print(list)\n",
    "print(\"Maths\",list.count(\"Maths\"))"
   ]
  },
  {
   "cell_type": "code",
   "execution_count": 1,
   "metadata": {},
   "outputs": [
    {
     "name": "stdout",
     "output_type": "stream",
     "text": [
      "1 Arsh\n",
      "2 Arsh\n",
      "3 Arsh\n",
      "4 Arsh\n",
      "5 Arsh\n",
      "6 Arsh\n",
      "7 Arsh\n",
      "8 Arsh\n",
      "9 Arsh\n",
      "10 Arsh\n"
     ]
    }
   ],
   "source": [
    "i=1\n",
    "while i<=25:\n",
    "    print(i, \"Arsh\")\n",
    "    if i==10:\n",
    "        break\n",
    "    i+=1"
   ]
  },
  {
   "cell_type": "code",
   "execution_count": 1,
   "metadata": {},
   "outputs": [
    {
     "name": "stdout",
     "output_type": "stream",
     "text": [
      "1 Arsh\n",
      "2 Arsh\n",
      "3 Arsh\n",
      "4 Arsh\n",
      "5 Arsh\n",
      "6 Arsh\n",
      "7 Arsh\n",
      "8 Arsh\n",
      "9 Arsh\n",
      "11 Arsh\n",
      "12 Arsh\n",
      "13 Arsh\n",
      "14 Arsh\n",
      "15 Arsh\n",
      "16 Arsh\n",
      "17 Arsh\n",
      "18 Arsh\n",
      "19 Arsh\n",
      "20 Arsh\n",
      "21 Arsh\n",
      "22 Arsh\n",
      "23 Arsh\n",
      "24 Arsh\n",
      "25 Arsh\n"
     ]
    }
   ],
   "source": [
    "i=1\n",
    "while i<=25:\n",
    "    if i==10:\n",
    "        i+=1\n",
    "        continue\n",
    "    print(i, \"Arsh\")\n",
    "    i+=1"
   ]
  },
  {
   "cell_type": "code",
   "execution_count": 52,
   "metadata": {},
   "outputs": [
    {
     "name": "stdout",
     "output_type": "stream",
     "text": [
      "1 Arsh\n",
      "2 Arsh\n",
      "3 Arsh\n",
      "4 Arsh\n",
      "5 Arsh\n",
      "6 Arsh\n",
      "7 Arsh\n",
      "8 Arsh\n",
      "9 Arsh\n",
      "10 Arsh\n",
      "11 Arsh\n",
      "12 Arsh\n",
      "13 Arsh\n",
      "14 Arsh\n",
      "15 Arsh\n",
      "16 Arsh\n",
      "17 Arsh\n",
      "18 Arsh\n",
      "19 Arsh\n",
      "20 Arsh\n",
      "21 Arsh\n",
      "22 Arsh\n",
      "23 Arsh\n",
      "24 Arsh\n",
      "25 Arsh\n"
     ]
    }
   ],
   "source": [
    "#for loop\n",
    "for i in range (1,26):\n",
    "    print(i, \"Arsh\")"
   ]
  },
  {
   "cell_type": "code",
   "execution_count": 59,
   "metadata": {},
   "outputs": [
    {
     "name": "stdout",
     "output_type": "stream",
     "text": [
      "1 Arsh\n",
      "2 Arsh\n",
      "3 Arsh\n",
      "4 Arsh\n",
      "5 Arsh\n",
      "6 Arsh\n",
      "7 Arsh\n",
      "8 Arsh\n",
      "9 Arsh\n",
      "10 Arsh\n",
      "11 Arsh\n",
      "12 Arsh\n",
      "13 Arsh\n",
      "14 Arsh\n",
      "Inside if, break is about to come.\n",
      "Out of the loop.\n"
     ]
    }
   ],
   "source": [
    "#break\n",
    "for i in range (1,26):\n",
    "    print(i, \"Arsh\")\n",
    "    if i==14:\n",
    "        print(\"Inside if, break is about to come.\")\n",
    "        break\n",
    "print(\"Out of the loop.\")"
   ]
  },
  {
   "cell_type": "code",
   "execution_count": 63,
   "metadata": {},
   "outputs": [
    {
     "name": "stdout",
     "output_type": "stream",
     "text": [
      "1 Arsh\n",
      "2 Arsh\n",
      "3 Arsh\n",
      "4 Arsh\n",
      "5 Arsh\n",
      "6 Arsh\n",
      "7 Arsh\n",
      "8 Arsh\n",
      "9 Arsh\n",
      "10 Arsh\n",
      "11 Arsh\n",
      "12 Arsh\n",
      "13 Arsh\n",
      "14 Arsh\n",
      "Inside if, continue is about to come.\n",
      "15 Arsh\n",
      "16 Arsh\n",
      "17 Arsh\n",
      "18 Arsh\n",
      "19 Arsh\n",
      "20 Arsh\n",
      "21 Arsh\n",
      "22 Arsh\n",
      "23 Arsh\n",
      "24 Arsh\n",
      "25 Arsh\n",
      "Out of the loop.\n"
     ]
    }
   ],
   "source": [
    "#continue\n",
    "for i in range (1,26):\n",
    "    print(i, \"Arsh\")\n",
    "    if i==14:\n",
    "          print(\"Inside if, continue is about to come.\")  \n",
    "    continue\n",
    "    print(i, \"Arsh\")\n",
    "    \n",
    "print(\"Out of the loop.\")"
   ]
  },
  {
   "cell_type": "code",
   "execution_count": 55,
   "metadata": {},
   "outputs": [
    {
     "name": "stdout",
     "output_type": "stream",
     "text": [
      "['Maths', 'Physics', 'Chemistry', 'Computer']\n",
      "Maths\n",
      "Physics\n",
      "Chemistry\n",
      "Computer\n",
      "['Maths', 'Physics', 'Chemistry', 'Computer']\n"
     ]
    }
   ],
   "source": [
    "sublist=[\"Maths\", \"Physics\", \"Chemistry\", \"Computer\"]\n",
    "print(sublist)\n",
    "for x in sublist:\n",
    "    print(x)\n",
    "print(sublist)"
   ]
  },
  {
   "cell_type": "code",
   "execution_count": 7,
   "metadata": {},
   "outputs": [
    {
     "name": "stdout",
     "output_type": "stream",
     "text": [
      "0\n",
      "2\n",
      "4\n",
      "6\n",
      "8\n",
      "10\n",
      "12\n",
      "14\n",
      "16\n",
      "18\n",
      "20\n",
      "22\n",
      "24\n",
      "26\n",
      "28\n",
      "30\n",
      "32\n",
      "34\n",
      "36\n",
      "38\n",
      "40\n",
      "42\n",
      "44\n",
      "46\n",
      "48\n",
      "50\n",
      "52\n",
      "54\n",
      "56\n",
      "58\n",
      "60\n",
      "62\n",
      "64\n",
      "66\n",
      "68\n",
      "70\n",
      "72\n",
      "74\n",
      "76\n",
      "78\n",
      "80\n",
      "82\n",
      "84\n",
      "86\n",
      "88\n",
      "90\n",
      "92\n",
      "94\n",
      "96\n",
      "98\n",
      "100\n"
     ]
    }
   ],
   "source": [
    "for i in range(0, 101):\n",
    "    if i%2==0:\n",
    "        print(i)"
   ]
  },
  {
   "cell_type": "code",
   "execution_count": 21,
   "metadata": {},
   "outputs": [
    {
     "name": "stdout",
     "output_type": "stream",
     "text": [
      "21\n",
      "21 21\n",
      "101 21\n",
      "INSIDE IF\n",
      "101 101\n",
      "10 101\n",
      "34 101\n",
      "150 101\n",
      "INSIDE IF\n",
      "150 150\n",
      "5 150\n",
      "40 150\n",
      "80 150\n",
      "150 101\n"
     ]
    }
   ],
   "source": [
    "ilist=[21, 101, 10, 34, 150, 5, 40, 80]\n",
    "largest=ilist[0]\n",
    "slargest=ilist[0]\n",
    "print(largest)\n",
    "for x in ilist:\n",
    "    print(x, largest)\n",
    "    if x>largest:\n",
    "        slargest=largest\n",
    "        largest=x\n",
    "        print(\"INSIDE IF\")\n",
    "        print(x, largest)\n",
    "print(largest, slargest)"
   ]
  },
  {
   "cell_type": "code",
   "execution_count": 23,
   "metadata": {},
   "outputs": [
    {
     "name": "stdout",
     "output_type": "stream",
     "text": [
      "10\n",
      "9\n",
      "8\n",
      "7\n",
      "6\n",
      "5\n",
      "4\n",
      "3\n",
      "2\n",
      "1\n"
     ]
    }
   ],
   "source": [
    "i=10\n",
    "while i>0:\n",
    "    print(i)\n",
    "    i-=1"
   ]
  }
 ],
 "metadata": {
  "kernelspec": {
   "display_name": "Python 3",
   "language": "python",
   "name": "python3"
  },
  "language_info": {
   "codemirror_mode": {
    "name": "ipython",
    "version": 3
   },
   "file_extension": ".py",
   "mimetype": "text/x-python",
   "name": "python",
   "nbconvert_exporter": "python",
   "pygments_lexer": "ipython3",
   "version": "3.7.6"
  }
 },
 "nbformat": 4,
 "nbformat_minor": 4
}
