{
 "cells": [
  {
   "cell_type": "code",
   "execution_count": 1,
   "metadata": {},
   "outputs": [],
   "source": [
    "import turtle\n",
    "window=turtle.Screen()\n",
    "t=turtle.Turtle()\n",
    "t.forward(200)\n",
    "turtle.done()"
   ]
  },
  {
   "cell_type": "code",
   "execution_count": 1,
   "metadata": {},
   "outputs": [],
   "source": [
    "import turtle\n",
    "wind=turtle.Screen()\n",
    "pen=turtle.Turtle()\n",
    "for i in range(4):\n",
    "    pen.forward(200)\n",
    "    pen.left(90)\n",
    "turtle.done()"
   ]
  },
  {
   "cell_type": "code",
   "execution_count": 1,
   "metadata": {},
   "outputs": [],
   "source": [
    "import turtle\n",
    "wind=turtle.Screen()\n",
    "pen=turtle.Turtle()\n",
    "for i in range(3):\n",
    "    pen.forward(200)\n",
    "    pen.left(120)\n",
    "turtle.done()"
   ]
  },
  {
   "cell_type": "code",
   "execution_count": 1,
   "metadata": {},
   "outputs": [],
   "source": [
    "import turtle\n",
    "wind=turtle.Screen()\n",
    "pen=turtle.Turtle()\n",
    "for i in range(3):\n",
    "    pen.forward(200)\n",
    "    if i!=2:\n",
    "        pen.left(120)\n",
    "turtle.done()"
   ]
  },
  {
   "cell_type": "code",
   "execution_count": 1,
   "metadata": {},
   "outputs": [],
   "source": [
    "import turtle\n",
    "wind=turtle.Screen()\n",
    "pen=turtle.Turtle()\n",
    "for i in range(6):\n",
    "    pen.forward(200)\n",
    "    pen.left(60)\n",
    "turtle.done()"
   ]
  },
  {
   "cell_type": "code",
   "execution_count": 1,
   "metadata": {},
   "outputs": [],
   "source": [
    "import turtle\n",
    "wind=turtle.Screen()\n",
    "pen=turtle.Turtle()\n",
    "for i in range(0, 6):\n",
    "    pen.forward(200)\n",
    "    pen.left(144)\n",
    "turtle.done()"
   ]
  },
  {
   "cell_type": "code",
   "execution_count": 1,
   "metadata": {},
   "outputs": [],
   "source": [
    "import turtle\n",
    "wind=turtle.Screen()\n",
    "pen=turtle.Turtle()\n",
    "length=100\n",
    "for i in range(40):\n",
    "    pen.forward(length)\n",
    "    pen.right(90)\n",
    "    length-=5\n",
    "turtle.done()"
   ]
  },
  {
   "cell_type": "code",
   "execution_count": 1,
   "metadata": {},
   "outputs": [],
   "source": [
    "import turtle\n",
    "t=turtle.Turtle()\n",
    "t.pensize(6)\n",
    "firstRowColors=[\"blue\", \"black\", \"red\"]\n",
    "for i in range(3):\n",
    "    t.penup()\n",
    "    t.pencolor(firstRowColors[i])\n",
    "    t.goto(i*110, 0)\n",
    "    t.pendown()\n",
    "    t.circle(50)\n",
    "secondRowColors=[\"\", \"yellow\", \"\", \"green\"]\n",
    "for i in range(1, 4, 2):\n",
    "    t.penup()\n",
    "    t.pencolor(secondRowColors[i])\n",
    "    t.goto(i*55, -50)\n",
    "    t.pendown()\n",
    "    t.circle(50)\n",
    "turtle.done()"
   ]
  },
  {
   "cell_type": "code",
   "execution_count": 7,
   "metadata": {},
   "outputs": [
    {
     "name": "stdout",
     "output_type": "stream",
     "text": [
      "Largest = 65\n"
     ]
    }
   ],
   "source": [
    "ilist=[2, 10, 65, 23, 25]\n",
    "largest=0\n",
    "for x in ilist:\n",
    "    if largest<x:\n",
    "        largest=x\n",
    "print(\"Largest =\", largest)"
   ]
  },
  {
   "cell_type": "code",
   "execution_count": 6,
   "metadata": {},
   "outputs": [
    {
     "name": "stdout",
     "output_type": "stream",
     "text": [
      "Largest = 100\n"
     ]
    }
   ],
   "source": [
    "listoflist=[[21, 15, 32], [2, 7, 43, 100], [34, 99, 25]]\n",
    "largest=0\n",
    "for x in listoflist:\n",
    "    for y in x:\n",
    "        if largest<y:\n",
    "            largest=y\n",
    "print(\"Largest =\", largest)"
   ]
  }
 ],
 "metadata": {
  "kernelspec": {
   "display_name": "Python 3",
   "language": "python",
   "name": "python3"
  },
  "language_info": {
   "codemirror_mode": {
    "name": "ipython",
    "version": 3
   },
   "file_extension": ".py",
   "mimetype": "text/x-python",
   "name": "python",
   "nbconvert_exporter": "python",
   "pygments_lexer": "ipython3",
   "version": "3.7.6"
  }
 },
 "nbformat": 4,
 "nbformat_minor": 4
}
