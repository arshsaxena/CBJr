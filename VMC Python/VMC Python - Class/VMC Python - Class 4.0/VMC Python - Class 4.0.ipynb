{
 "cells": [
  {
   "cell_type": "code",
   "execution_count": 5,
   "metadata": {},
   "outputs": [
    {
     "name": "stdout",
     "output_type": "stream",
     "text": [
      "Average = 30.6\n"
     ]
    }
   ],
   "source": [
    "#Average=sum/(len(\"LIST NAME\"))\n",
    "ilist=[10, 23, 45, 60, 15]\n",
    "sum=0\n",
    "for x in ilist:\n",
    "    sum+=x\n",
    "print(\"Average =\", sum/(len(ilist)))"
   ]
  },
  {
   "cell_type": "code",
   "execution_count": 5,
   "metadata": {},
   "outputs": [
    {
     "name": "stdout",
     "output_type": "stream",
     "text": [
      "2\n",
      "Average = 35.0\n"
     ]
    }
   ],
   "source": [
    "ilist=[10, 23, 45, 60, 15]\n",
    "sum=0\n",
    "count=0\n",
    "for x in ilist:\n",
    "    if x%2==0:\n",
    "        sum+=x\n",
    "        count+=1\n",
    "average=sum/count\n",
    "print(count)\n",
    "print(\"Average =\", average)"
   ]
  },
  {
   "cell_type": "code",
   "execution_count": 32,
   "metadata": {},
   "outputs": [
    {
     "name": "stdout",
     "output_type": "stream",
     "text": [
      "1 : 1\n",
      "2 : 1\n",
      "3 : 2\n",
      "4 : 3\n",
      "5 : 5\n",
      "6 : 8\n",
      "7 : 13\n",
      "8 : 21\n",
      "9 : 34\n",
      "10 : 55\n",
      "11 : 89\n",
      "12 : 144\n",
      "13 : 233\n",
      "14 : 377\n",
      "15 : 610\n",
      "16 : 987\n",
      "17 : 1597\n",
      "18 : 2584\n",
      "19 : 4181\n",
      "20 : 6765\n"
     ]
    }
   ],
   "source": [
    "count=20\n",
    "i=1;\n",
    "j=1\n",
    "print(\"1 :\", i)\n",
    "print(\"2 :\", j)\n",
    "for x in range(3, count+1):\n",
    "    print(x, \":\", i+j)\n",
    "    i, j=j, i+j"
   ]
  },
  {
   "cell_type": "code",
   "execution_count": 2,
   "metadata": {},
   "outputs": [
    {
     "name": "stdout",
     "output_type": "stream",
     "text": [
      "1 : 1\n",
      "2 : 1\n",
      "3 : 2\n",
      "4 : 3\n",
      "5 : 5\n",
      "6 : 8\n",
      "7 : 13\n",
      "8 : 21\n",
      "9 : 34\n",
      "10 : 55\n",
      "11 : 89\n",
      "12 : 144\n",
      "13 : 233\n",
      "14 : 377\n",
      "15 : 610\n",
      "16 : 987\n"
     ]
    }
   ],
   "source": [
    "limit=1000\n",
    "i=1;\n",
    "j=1\n",
    "count=2\n",
    "print(\"1 :\", i)\n",
    "print(\"2 :\", j)\n",
    "while i+j<1000:\n",
    "    count+=1\n",
    "    print(count, \":\", i+j)\n",
    "    i, j=j, i+j"
   ]
  },
  {
   "cell_type": "code",
   "execution_count": 22,
   "metadata": {},
   "outputs": [
    {
     "name": "stdout",
     "output_type": "stream",
     "text": [
      "Enter a number: 99\n",
      "99 is not a prime number.\n"
     ]
    }
   ],
   "source": [
    "num=int(input(\"Enter a number: \"))\n",
    "for x in range (2, num):\n",
    "#x=2, x=3, x=4,....,x=num\n",
    "    if num%x==0:\n",
    "        print(num, \"is not a prime number.\")\n",
    "        break\n",
    "else:\n",
    "    print(num, \"is a prime number.\")"
   ]
  },
  {
   "cell_type": "code",
   "execution_count": 27,
   "metadata": {},
   "outputs": [
    {
     "name": "stdout",
     "output_type": "stream",
     "text": [
      "Enter a number: 2\n",
      "2 is a prime number.\n"
     ]
    }
   ],
   "source": [
    "num=int(input(\"Enter a number: \"))\n",
    "x=2\n",
    "while x<num:\n",
    "    if num%x==0:\n",
    "        print(num, \"is not a prime number.\")\n",
    "        break\n",
    "    x+=1\n",
    "else:\n",
    "    print(num, \"is a prime number.\")"
   ]
  },
  {
   "cell_type": "code",
   "execution_count": 58,
   "metadata": {
    "scrolled": true
   },
   "outputs": [
    {
     "name": "stdout",
     "output_type": "stream",
     "text": [
      "1 , 1 | 1 , 2 | 1 , 3 | 1 , 4 | 1 , 5 | \n",
      "\n",
      "2 , 1 | 2 , 2 | 2 , 3 | 2 , 4 | 2 , 5 | \n",
      "\n",
      "3 , 1 | 3 , 2 | 3 , 3 | 3 , 4 | 3 , 5 | \n",
      "\n",
      "4 , 1 | 4 , 2 | 4 , 3 | 4 , 4 | 4 , 5 | \n",
      "\n",
      "5 , 1 | 5 , 2 | 5 , 3 | 5 , 4 | 5 , 5 | \n",
      "\n"
     ]
    }
   ],
   "source": [
    "xcount=5\n",
    "ycount=5\n",
    "for x in range(1, xcount+1):  \n",
    "    for y in range (1, ycount+1): #Start a for loop and run it ycount times.\n",
    "        print(x, \",\", y, end=\" | \") #Print x and y in same line.\n",
    "    print() #Move pointer to next line.\n",
    "    print() #Leave a blank line."
   ]
  }
 ],
 "metadata": {
  "kernelspec": {
   "display_name": "Python 3",
   "language": "python",
   "name": "python3"
  },
  "language_info": {
   "codemirror_mode": {
    "name": "ipython",
    "version": 3
   },
   "file_extension": ".py",
   "mimetype": "text/x-python",
   "name": "python",
   "nbconvert_exporter": "python",
   "pygments_lexer": "ipython3",
   "version": "3.7.6"
  }
 },
 "nbformat": 4,
 "nbformat_minor": 4
}
