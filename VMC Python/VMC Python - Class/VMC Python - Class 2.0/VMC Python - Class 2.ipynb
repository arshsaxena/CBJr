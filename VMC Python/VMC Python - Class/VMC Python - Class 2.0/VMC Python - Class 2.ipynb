{
 "cells": [
  {
   "cell_type": "code",
   "execution_count": 1,
   "metadata": {},
   "outputs": [
    {
     "name": "stdout",
     "output_type": "stream",
     "text": [
      "5\n",
      "2\n",
      "6\n",
      "3.3333333333333335\n"
     ]
    }
   ],
   "source": [
    "print(2+3)\n",
    "print(5-3)\n",
    "print(2*3)\n",
    "print(10/3)\n",
    "#\"+\", \"-\", \"*\", and \"/\" are basic arithmetic operators."
   ]
  },
  {
   "cell_type": "code",
   "execution_count": 8,
   "metadata": {},
   "outputs": [
    {
     "name": "stdout",
     "output_type": "stream",
     "text": [
      "8\n"
     ]
    }
   ],
   "source": [
    "print(2**3)\n",
    "#\"**\" represents power."
   ]
  },
  {
   "cell_type": "code",
   "execution_count": 9,
   "metadata": {},
   "outputs": [
    {
     "name": "stdout",
     "output_type": "stream",
     "text": [
      "3\n"
     ]
    }
   ],
   "source": [
    "print(10//3)\n",
    "#\"//' will give us quotient. "
   ]
  },
  {
   "cell_type": "code",
   "execution_count": 10,
   "metadata": {},
   "outputs": [
    {
     "name": "stdout",
     "output_type": "stream",
     "text": [
      "1\n"
     ]
    }
   ],
   "source": [
    "print(10%3)\n",
    "#\"%\" represents mod."
   ]
  },
  {
   "cell_type": "code",
   "execution_count": 13,
   "metadata": {},
   "outputs": [
    {
     "name": "stdout",
     "output_type": "stream",
     "text": [
      "False\n"
     ]
    }
   ],
   "source": [
    "print(2==3)\n",
    "#\"==\" represents equals to."
   ]
  },
  {
   "cell_type": "code",
   "execution_count": 14,
   "metadata": {},
   "outputs": [
    {
     "name": "stdout",
     "output_type": "stream",
     "text": [
      "True\n"
     ]
    }
   ],
   "source": [
    "print(3!=4)\n",
    "#\"!=\" represents not equals to."
   ]
  },
  {
   "cell_type": "code",
   "execution_count": 18,
   "metadata": {},
   "outputs": [
    {
     "name": "stdout",
     "output_type": "stream",
     "text": [
      "False\n",
      "False\n"
     ]
    }
   ],
   "source": [
    "print(5>10)\n",
    "print(2>2)\n",
    "#\">\" represents greater than."
   ]
  },
  {
   "cell_type": "code",
   "execution_count": 20,
   "metadata": {},
   "outputs": [
    {
     "name": "stdout",
     "output_type": "stream",
     "text": [
      "True\n"
     ]
    }
   ],
   "source": [
    "print(2>=2)\n",
    "#\">=\" represents greater than or equal to."
   ]
  },
  {
   "cell_type": "code",
   "execution_count": 21,
   "metadata": {},
   "outputs": [
    {
     "name": "stdout",
     "output_type": "stream",
     "text": [
      "True\n",
      "False\n"
     ]
    }
   ],
   "source": [
    "print(5<10)\n",
    "print(2<2)\n",
    "#\"<\" represents less than."
   ]
  },
  {
   "cell_type": "code",
   "execution_count": 23,
   "metadata": {},
   "outputs": [
    {
     "name": "stdout",
     "output_type": "stream",
     "text": [
      "True\n"
     ]
    }
   ],
   "source": [
    "print(2<=2)\n",
    "#\"=<\" represents less than or equal to."
   ]
  },
  {
   "cell_type": "code",
   "execution_count": 31,
   "metadata": {},
   "outputs": [
    {
     "name": "stdout",
     "output_type": "stream",
     "text": [
      "False\n",
      "True\n",
      "False\n"
     ]
    }
   ],
   "source": [
    "print(2==3 and 5>3)\n",
    "print(3==3 and 5>3)\n",
    "print(2==3 and 5<3)"
   ]
  },
  {
   "cell_type": "code",
   "execution_count": 34,
   "metadata": {},
   "outputs": [
    {
     "name": "stdout",
     "output_type": "stream",
     "text": [
      "True\n",
      "False\n",
      "True\n"
     ]
    }
   ],
   "source": [
    "print(5==3 or 2>1)\n",
    "print(5==3 or 2<1)\n",
    "print(5==5 or 2>1)"
   ]
  },
  {
   "cell_type": "code",
   "execution_count": 35,
   "metadata": {},
   "outputs": [
    {
     "name": "stdout",
     "output_type": "stream",
     "text": [
      "False\n"
     ]
    }
   ],
   "source": [
    "print(not(3>2))"
   ]
  },
  {
   "cell_type": "code",
   "execution_count": 54,
   "metadata": {},
   "outputs": [
    {
     "name": "stdout",
     "output_type": "stream",
     "text": [
      "Enter your marks: 100\n",
      "True\n",
      "You have passed the test.\n",
      "Congratulations! :)\n",
      "What are you waiting for? Go home!\n"
     ]
    }
   ],
   "source": [
    "marks=int(input(\"Enter your marks: \"))\n",
    "print(marks>=33)\n",
    "if marks>33: \n",
    "    print(\"You have passed the test.\")\n",
    "    print(\"Congratulations! :)\")\n",
    "else:\n",
    "    print(\"You have failed the test.\")\n",
    "    print(\"Try hard next time. :(\")\n",
    "    \n",
    "print(\"What are you waiting for? Go home!\")\n",
    "    \n",
    "#if else: conditional formatting"
   ]
  },
  {
   "cell_type": "code",
   "execution_count": 58,
   "metadata": {},
   "outputs": [
    {
     "name": "stdout",
     "output_type": "stream",
     "text": [
      "Enter your marks: 32\n",
      "False\n",
      "You have failed the test.\n",
      "Try hard next time. :(\n",
      "What are you waiting for? Go home!\n"
     ]
    }
   ],
   "source": [
    "marks=int(input(\"Enter your marks: \"))\n",
    "print(marks>=33)\n",
    "if marks>33: \n",
    "    print(\"You have passed the test.\")\n",
    "    print(\"Congratulations! :)\")\n",
    "else:\n",
    "    print(\"You have failed the test.\")\n",
    "    print(\"Try hard next time. :(\")\n",
    "    \n",
    "print(\"What are you waiting for? Go home!\")\n",
    "    \n",
    "#if else: conditional formatting"
   ]
  },
  {
   "cell_type": "code",
   "execution_count": 4,
   "metadata": {},
   "outputs": [
    {
     "name": "stdout",
     "output_type": "stream",
     "text": [
      "Enter your marks: 34\n",
      "True\n",
      "You have passed the test but did'nt did well.\n",
      "Congratulations! :)\n",
      "What are you waiting for? Go home!\n"
     ]
    }
   ],
   "source": [
    "marks=int(input(\"Enter your marks: \"))\n",
    "print(marks>=33)\n",
    "if marks<33:\n",
    "    print(\"You have not passed the test.\")\n",
    "elif marks>=33 and marks<=60:\n",
    "    print(\"You have passed the test but did'nt did well.\")\n",
    "    print(\"Congratulations! :)\")\n",
    "elif marks>60:\n",
    "    print(\"You have passed the test, excellent.\")\n",
    "    print(\"Congratulations! :)\")\n",
    "\n",
    "print(\"What are you waiting for? Go home!\")\n",
    "    \n",
    "#if else: conditional formatting"
   ]
  },
  {
   "cell_type": "code",
   "execution_count": 68,
   "metadata": {},
   "outputs": [
    {
     "name": "stdout",
     "output_type": "stream",
     "text": [
      "Enter a number: 10\n",
      "Even\n"
     ]
    }
   ],
   "source": [
    "num=int(input(\"Enter a number: \"))\n",
    "if (num%2==0):\n",
    "    print(\"Even\")\n",
    "else:\n",
    "    print(\"Odd\")"
   ]
  },
  {
   "cell_type": "code",
   "execution_count": 78,
   "metadata": {},
   "outputs": [
    {
     "name": "stdout",
     "output_type": "stream",
     "text": [
      "Enter a number: 4\n",
      "Not a multiple of 5\n"
     ]
    }
   ],
   "source": [
    "num=int(input(\"Enter a number: \"))\n",
    "if (not(num%2==0 or num%5==0)):\n",
    "    print(\"Multiple of 5\")\n",
    "else:\n",
    "    print(\"Not a multiple of 5\")"
   ]
  },
  {
   "cell_type": "code",
   "execution_count": 83,
   "metadata": {},
   "outputs": [
    {
     "name": "stdout",
     "output_type": "stream",
     "text": [
      "a=2\n",
      "b=10\n",
      "c=7\n",
      "b is largest\n"
     ]
    }
   ],
   "source": [
    "a=int(input(\"a=\"))\n",
    "b=int(input(\"b=\"))\n",
    "c=int(input(\"c=\"))\n",
    "if (a>=b and a>=c):\n",
    "    print(\"a is largest\")\n",
    "elif (b>=a and b>=c):\n",
    "    print(\"b is largest\")\n",
    "else:\n",
    "    print(\"c is largest\")\n"
   ]
  },
  {
   "cell_type": "code",
   "execution_count": 93,
   "metadata": {},
   "outputs": [
    {
     "name": "stdout",
     "output_type": "stream",
     "text": [
      "a=2\n",
      "b=14\n",
      "c=7\n",
      "inside b condition\n",
      "\n",
      "14\n"
     ]
    }
   ],
   "source": [
    "a=int(input(\"a=\"))\n",
    "b=int(input(\"b=\"))\n",
    "c=int(input(\"c=\"))\n",
    "largest=a\n",
    "if b>=largest:\n",
    "    largest=b\n",
    "    print(\"inside b condition\")\n",
    "elif c>=largest:\n",
    "    largest=c\n",
    "    print(\"inside c condition\")\n",
    "print()\n",
    "print(largest)"
   ]
  }
 ],
 "metadata": {
  "kernelspec": {
   "display_name": "Python 3",
   "language": "python",
   "name": "python3"
  },
  "language_info": {
   "codemirror_mode": {
    "name": "ipython",
    "version": 3
   },
   "file_extension": ".py",
   "mimetype": "text/x-python",
   "name": "python",
   "nbconvert_exporter": "python",
   "pygments_lexer": "ipython3",
   "version": "3.7.6"
  }
 },
 "nbformat": 4,
 "nbformat_minor": 4
}
