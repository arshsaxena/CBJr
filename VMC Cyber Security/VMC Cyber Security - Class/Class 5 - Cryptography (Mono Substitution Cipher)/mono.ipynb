{
 "cells": [
  {
   "cell_type": "code",
   "execution_count": 7,
   "metadata": {},
   "outputs": [],
   "source": [
    "key = { \n",
    "    \"a\" : \"z\", \n",
    "    \"b\" : \"a\", \n",
    "    \"c\" : \"q\", \n",
    "    \"d\" : \"x\", \n",
    "    \"e\" : \"s\", \n",
    "    \"f\" : \"w\", \n",
    "    \"g\" : \"c\", \n",
    "    \"h\" : \"d\", \n",
    "    \"i\" : \"e\", \n",
    "    \"j\" : \"v\", \n",
    "    \"k\" : \"f\", \n",
    "    \"l\" : \"r\", \n",
    "    \"m\" : \"b\", \n",
    "    \"n\" : \"g\", \n",
    "    \"o\" : \"t\", \n",
    "    \"p\" : \"n\", \n",
    "    \"q\" : \"h\", \n",
    "    \"r\" : \"y\", \n",
    "    \"s\" : \"m\", \n",
    "    \"t\" : \"j\", \n",
    "    \"u\" : \"u\", \n",
    "    \"v\" : \"k\", \n",
    "    \"w\" : \"i\", \n",
    "    \"x\" : \"l\", \n",
    "    \"y\" : \"o\", \n",
    "    \"z\" : \"p\", \n",
    "    \" \" : \" \" \n",
    "}\n",
    "\n",
    "#This function allows us to make cipher text.\n",
    "def mono_encode(key, plainText):\n",
    "    plainText = plainText.lower()\n",
    "    cipherText= \"\"\n",
    "    for i in plainText:\n",
    "        cipherText = cipherText + key[i]\n",
    "    return cipherText\n",
    "\n",
    "def mono_decode(key, cipherText):\n",
    "    cipherText = cipherText.lower()\n",
    "    plainText = \"\"\n",
    "    listKey = list(key.keys()) # This keys() will give me all the keys of the dic.\n",
    "    listValues = list(key.values()) # This values() will give me all the values of the dic.\n",
    "    for i in cipherText:\n",
    "        plainText += listKey[listValues.index(i)]\n",
    "    return plainText"
   ]
  },
  {
   "cell_type": "code",
   "execution_count": 8,
   "metadata": {},
   "outputs": [
    {
     "name": "stdout",
     "output_type": "stream",
     "text": [
      "zymd mzlsgz\n"
     ]
    }
   ],
   "source": [
    "print(mono_encode(key, \"Arsh Saxena\"))"
   ]
  },
  {
   "cell_type": "code",
   "execution_count": 9,
   "metadata": {},
   "outputs": [
    {
     "name": "stdout",
     "output_type": "stream",
     "text": [
      "arsh saxena\n"
     ]
    }
   ],
   "source": [
    "print(mono_decode(key, \"zymd mzlsgz\"))"
   ]
  },
  {
   "cell_type": "code",
   "execution_count": null,
   "metadata": {},
   "outputs": [],
   "source": []
  }
 ],
 "metadata": {
  "kernelspec": {
   "display_name": "Python 3",
   "language": "python",
   "name": "python3"
  },
  "language_info": {
   "codemirror_mode": {
    "name": "ipython",
    "version": 3
   },
   "file_extension": ".py",
   "mimetype": "text/x-python",
   "name": "python",
   "nbconvert_exporter": "python",
   "pygments_lexer": "ipython3",
   "version": "3.7.6"
  }
 },
 "nbformat": 4,
 "nbformat_minor": 4
}
