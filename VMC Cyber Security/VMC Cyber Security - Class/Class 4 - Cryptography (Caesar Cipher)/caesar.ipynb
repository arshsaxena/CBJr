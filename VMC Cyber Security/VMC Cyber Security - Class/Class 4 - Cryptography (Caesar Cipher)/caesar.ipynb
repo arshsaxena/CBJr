{
 "cells": [
  {
   "cell_type": "code",
   "execution_count": null,
   "metadata": {},
   "outputs": [],
   "source": [
    "def encrypt(text, n):\n",
    "    result = \"\"\n",
    "    for i in range (len(text)):\n",
    "        char = text[i]\n",
    "        if(char.isupper()):\n",
    "            result += chr((ord(char) + n - 65) % 26 + 65)\n",
    "        else:\n",
    "            result += chr((ord(char) + n - 97) % 26 + 97)\n",
    "    return result"
   ]
  },
  {
   "cell_type": "code",
   "execution_count": null,
   "metadata": {},
   "outputs": [],
   "source": [
    "# Encryption\n",
    "a = \"ArshSaxena\"\n",
    "n = 14\n",
    "print (encrypt(a, n))"
   ]
  },
  {
   "cell_type": "code",
   "execution_count": null,
   "metadata": {},
   "outputs": [],
   "source": [
    "# Decryption (just 26 - n)\n",
    "b = \"OfgvGolsbo\"\n",
    "r = 26 - n\n",
    "print (encrypt(b, r))"
   ]
  },
  {
   "cell_type": "code",
   "execution_count": null,
   "metadata": {},
   "outputs": [],
   "source": [
    "i = 0\n",
    "while i < 26:\n",
    "    print(encrypt(encrypt(a, n), i))\n",
    "    i = i+1"
   ]
  }
 ],
 "metadata": {
  "kernelspec": {
   "display_name": "Python 3",
   "language": "python",
   "name": "python3"
  },
  "language_info": {
   "codemirror_mode": {
    "name": "ipython",
    "version": 3
   },
   "file_extension": ".py",
   "mimetype": "text/x-python",
   "name": "python",
   "nbconvert_exporter": "python",
   "pygments_lexer": "ipython3",
   "version": "3.7.6"
  }
 },
 "nbformat": 4,
 "nbformat_minor": 4
}
